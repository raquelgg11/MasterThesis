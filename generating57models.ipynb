{
 "cells": [
  {
   "cell_type": "code",
   "execution_count": 1,
   "metadata": {
    "scrolled": true
   },
   "outputs": [],
   "source": [
    "import cobra\n",
    "import time\n",
    "import numpy as np\n",
    "from cobra import Model, Reaction, Metabolite\n",
    "from cobra.flux_analysis import (\n",
    "    single_gene_deletion, single_reaction_deletion, double_gene_deletion,\n",
    "    double_reaction_deletion)"
   ]
  },
  {
   "cell_type": "code",
   "execution_count": 2,
   "metadata": {},
   "outputs": [],
   "source": [
    "import pickle "
   ]
  },
  {
   "cell_type": "markdown",
   "metadata": {},
   "source": [
    "# Reading model"
   ]
  },
  {
   "cell_type": "code",
   "execution_count": 3,
   "metadata": {},
   "outputs": [],
   "source": [
    "cobra.Configuration().solver=\"cplex\""
   ]
  },
  {
   "cell_type": "code",
   "execution_count": 4,
   "metadata": {},
   "outputs": [
    {
     "name": "stdout",
     "output_type": "stream",
     "text": [
      "CPU times: user 1min 19s, sys: 2.18 s, total: 1min 21s\n",
      "Wall time: 1min 24s\n"
     ]
    }
   ],
   "source": [
    "%%time\n",
    "modelo=cobra.io.read_sbml_model(\"model\")"
   ]
  },
  {
   "cell_type": "code",
   "execution_count": 5,
   "metadata": {},
   "outputs": [],
   "source": [
    "model=modelo.copy()"
   ]
  },
  {
   "cell_type": "code",
   "execution_count": 1,
   "metadata": {},
   "outputs": [
    {
     "data": {
      "text/plain": [
       "'\\nfor i in range(len(model.metabolites)):\\n    m=model.metabolites[i]\\n    nombre=m.id\\n    m.id=nombre[:len(nombre)-3]\\n'"
      ]
     },
     "execution_count": 1,
     "metadata": {},
     "output_type": "execute_result"
    }
   ],
   "source": [
    "#Remove compartment from metabolite ID (ONLY USE FOR ftINIT models)\n",
    "'''\n",
    "for i in range(len(model.metabolites)):\n",
    "    m=model.metabolites[i]\n",
    "    nombre=m.id\n",
    "    m.id=nombre[:len(nombre)-3]\n",
    "'''"
   ]
  },
  {
   "cell_type": "code",
   "execution_count": 7,
   "metadata": {},
   "outputs": [],
   "source": [
    "#name of the original model. \n",
    "nombre=\"name\""
   ]
  },
  {
   "cell_type": "markdown",
   "metadata": {},
   "source": [
    "# Rephosphorylation of nucleoside triphosphates\n"
   ]
  },
  {
   "cell_type": "markdown",
   "metadata": {},
   "source": [
    "Aerobic rephosphorylation of ATP from glucose"
   ]
  },
  {
   "cell_type": "code",
   "execution_count": 8,
   "metadata": {},
   "outputs": [],
   "source": [
    "glucosa=model.reactions.MAR09034"
   ]
  },
  {
   "cell_type": "code",
   "execution_count": 9,
   "metadata": {},
   "outputs": [],
   "source": [
    "O2=model.reactions.MAR09048"
   ]
  },
  {
   "cell_type": "code",
   "execution_count": 10,
   "metadata": {},
   "outputs": [],
   "source": [
    "H2O=model.reactions.MAR09047"
   ]
  },
  {
   "cell_type": "code",
   "execution_count": 11,
   "metadata": {},
   "outputs": [],
   "source": [
    "CO2=model.reactions.MAR09058"
   ]
  },
  {
   "cell_type": "code",
   "execution_count": 12,
   "metadata": {},
   "outputs": [
    {
     "name": "stdout",
     "output_type": "stream",
     "text": [
      "0.0\n"
     ]
    }
   ],
   "source": [
    "with model:   \n",
    "    interes = Reaction('AerobicRephosphorylationOfATP')\n",
    "    interes.lower_bound = 1.  #Se crea esta reacción de interés porque no estaba en el modelo\n",
    "    interes.upper_bound = 1000.  \n",
    "    interes.add_metabolites({\n",
    "        model.metabolites.MAM01371c: -1.0,\n",
    "        model.metabolites.MAM02040c: -1.0,\n",
    "        model.metabolites.MAM01285c: 1,\n",
    "        model.metabolites.MAM02039c: 1,\n",
    "        model.metabolites.MAM02751c: 1\n",
    "    })\n",
    "    model.add_reactions([interes])\n",
    "    \n",
    "    \n",
    "    for r in model.exchanges:\n",
    "        r.lower_bound=0\n",
    "        r.upper_bound=0\n",
    "    O2.lower_bound=-1000\n",
    "    glucosa.lower_bound=-1000\n",
    "    H2O.upper_bound=1000\n",
    "    CO2.upper_bound=1000\n",
    "\n",
    "    sol=model.slim_optimize()\n",
    "    cobra.io.write_sbml_model(model,nombre+\"-Aerobic-rephosphorylation-of-ATP-from-glucose.xml\")\n",
    "    print(sol)"
   ]
  },
  {
   "cell_type": "markdown",
   "metadata": {},
   "source": [
    "Aerobic rephosphorylation of GTP"
   ]
  },
  {
   "cell_type": "code",
   "execution_count": 13,
   "metadata": {},
   "outputs": [
    {
     "name": "stdout",
     "output_type": "stream",
     "text": [
      "0.0 AerobicRephosphorylationOfGTP: MAM02034c + MAM02040c --> MAM01948c + MAM02039c + MAM02751c\n"
     ]
    }
   ],
   "source": [
    "with model:\n",
    "    interes = Reaction('AerobicRephosphorylationOfGTP')\n",
    "    interes.lower_bound = 1.  # This is the default\n",
    "    interes.upper_bound = 1000.  # This is the default\n",
    "    interes.add_metabolites({\n",
    "        model.metabolites.MAM02034c: -1.0,\n",
    "        model.metabolites.MAM02040c: -1.0,\n",
    "        model.metabolites.MAM01948c: 1,\n",
    "        model.metabolites.MAM02039c: 1,\n",
    "        model.metabolites.MAM02751c: 1\n",
    "    })\n",
    "    model.add_reactions([interes])\n",
    "    for r in model.exchanges:\n",
    "        r.lower_bound=0\n",
    "        r.upper_bound=0\n",
    "    O2.lower_bound=-1000\n",
    "    glucosa.lower_bound=-1000\n",
    "    H2O.upper_bound=1000\n",
    "    CO2.upper_bound=1000\n",
    "    \n",
    "    sol=model.slim_optimize()\n",
    "    cobra.io.write_sbml_model(model,nombre+\"-Aerobic-rephosphorylation-of-GTP.xml\")\n",
    "    \n",
    "    print(sol, interes)"
   ]
  },
  {
   "cell_type": "markdown",
   "metadata": {},
   "source": [
    "Aerobic rephosphorylation of CTP"
   ]
  },
  {
   "cell_type": "code",
   "execution_count": 15,
   "metadata": {},
   "outputs": [
    {
     "name": "stdout",
     "output_type": "stream",
     "text": [
      "0.0\n"
     ]
    }
   ],
   "source": [
    "with model:\n",
    "    interes = Reaction('CDPtoCTP')\n",
    "    interes.name = 'CDPtoCTP '\n",
    "    interes.lower_bound = 1.  # This is the default\n",
    "    interes.upper_bound = 1000.  # This is the default\n",
    "    interes.add_metabolites({\n",
    "        model.metabolites.MAM01623c: -1.0,\n",
    "        model.metabolites.MAM02040c: -1.0,\n",
    "        model.metabolites.MAM01424c: 1,\n",
    "        model.metabolites.MAM02039c: 1,\n",
    "        model.metabolites.MAM02751c: 1\n",
    "    })\n",
    "    model.add_reactions([interes])\n",
    "    for r in model.exchanges:\n",
    "        r.lower_bound=0\n",
    "        r.upper_bound=0\n",
    "    O2.lower_bound=-1000\n",
    "    glucosa.lower_bound=-1000\n",
    "    H2O.upper_bound=1000\n",
    "    CO2.upper_bound=1000\n",
    "    \n",
    "    sol=model.slim_optimize()\n",
    "    cobra.io.write_sbml_model(model,nombre+\"-Aerobic-rephosphorylation-of-CTP.xml\")\n",
    "    print(sol)"
   ]
  },
  {
   "cell_type": "markdown",
   "metadata": {},
   "source": [
    "Aerobic rephosphorylation of UTP"
   ]
  },
  {
   "cell_type": "code",
   "execution_count": 17,
   "metadata": {},
   "outputs": [
    {
     "name": "stdout",
     "output_type": "stream",
     "text": [
      "0.0\n"
     ]
    }
   ],
   "source": [
    "with model:\n",
    "    interes = Reaction('UDPtoUTP')\n",
    "    interes.name = 'UDPtoUTP '\n",
    "    interes.lower_bound = 1.  # This is the default\n",
    "    interes.upper_bound = 1000.  # This is the default\n",
    "    interes.add_metabolites({\n",
    "        model.metabolites.MAM03130c: -1.0,\n",
    "        model.metabolites.MAM02040c: -1.0,\n",
    "        model.metabolites.MAM03106c: 1,\n",
    "        model.metabolites.MAM02039c: 1,\n",
    "        model.metabolites.MAM02751c: 1\n",
    "    })\n",
    "    model.add_reactions([interes])\n",
    "    for r in model.exchanges:\n",
    "        r.lower_bound=0\n",
    "        r.upper_bound=0\n",
    "    O2.lower_bound=-1000\n",
    "    glucosa.lower_bound=-1000\n",
    "    H2O.upper_bound=1000\n",
    "    CO2.upper_bound=1000\n",
    "    \n",
    "    sol=model.slim_optimize()\n",
    "    cobra.io.write_sbml_model(model,nombre+\"-Aerobic-rephosphorylation-of-UTP.xml\")\n",
    "    print(sol)"
   ]
  },
  {
   "cell_type": "markdown",
   "metadata": {},
   "source": [
    "# De novo synthesis of nucleotides"
   ]
  },
  {
   "cell_type": "markdown",
   "metadata": {},
   "source": [
    "ATP de novo synthesis"
   ]
  },
  {
   "cell_type": "code",
   "execution_count": 19,
   "metadata": {},
   "outputs": [],
   "source": [
    "NH3=model.reactions.MAR09073"
   ]
  },
  {
   "cell_type": "code",
   "execution_count": 20,
   "metadata": {},
   "outputs": [],
   "source": [
    "Pi=model.reactions.MAR09072"
   ]
  },
  {
   "cell_type": "markdown",
   "metadata": {},
   "source": [
    "Lo siguiente es un método alternativo a definir reacciones"
   ]
  },
  {
   "cell_type": "code",
   "execution_count": 21,
   "metadata": {},
   "outputs": [
    {
     "name": "stdout",
     "output_type": "stream",
     "text": [
      "0.0\n"
     ]
    }
   ],
   "source": [
    "with model:\n",
    "    interes = Reaction('ATPdenovo')\n",
    "    interes.name = 'ATPdenovo'\n",
    "    interes.lower_bound = -1000.  # This is the default\n",
    "    interes.upper_bound = 1000.  # This is the default\n",
    "    interes.add_metabolites({\n",
    "        model.metabolites.MAM01371c: -1.0,\n",
    "        model.metabolites.MAM02040c: -1.0,\n",
    "        model.metabolites.MAM01285c: 1.0,\n",
    "        model.metabolites.MAM02751c: 1.0,\n",
    "        model.metabolites.MAM02039c: 1.0\n",
    "    })\n",
    "    model.add_reactions([interes])\n",
    "    for r in model.exchanges:\n",
    "        r.lower_bound=0\n",
    "        r.upper_bound=0\n",
    "    glucosa.lower_bound=-1000\n",
    "    O2.lower_bound=-1000\n",
    "    NH3.lower_bound=-1000\n",
    "    Pi.lower_bound=-1000\n",
    "    model.metabolites.MAM01371c.lower_bound=1 #ATP[c]\n",
    "    H2O.upper_bound=1000\n",
    "    CO2.upper_bound=1000\n",
    "    \n",
    "    sol=model.slim_optimize()\n",
    "    cobra.io.write_sbml_model(model,nombre+\"-ATP-de-novo-synthesis.xml\")\n",
    "    print(sol)"
   ]
  },
  {
   "cell_type": "markdown",
   "metadata": {},
   "source": [
    "CTP de novo synthesis"
   ]
  },
  {
   "cell_type": "code",
   "execution_count": 22,
   "metadata": {},
   "outputs": [
    {
     "name": "stdout",
     "output_type": "stream",
     "text": [
      "0.0\n"
     ]
    }
   ],
   "source": [
    "with model:\n",
    "    interes = Reaction('CTPdenovo')\n",
    "    interes.name = 'CTPdenovo'\n",
    "    interes.lower_bound = -1000.  # This is the default\n",
    "    interes.upper_bound = 1000.  # This is the default\n",
    "    interes.add_metabolites({\n",
    "        model.metabolites.MAM01371c: -1.0,\n",
    "        model.metabolites.MAM02040c: -1.0,\n",
    "        model.metabolites.MAM01285c: 1.0,\n",
    "        model.metabolites.MAM02751c: 1.0,\n",
    "        model.metabolites.MAM02039c: 1.0\n",
    "    })\n",
    "    \n",
    "    CTPc = Reaction('CTPc')\n",
    "    CTPc.lower_bound = 0  \n",
    "    CTPc.upper_bound = 1000  \n",
    "    CTPc.add_metabolites({\n",
    "         model.metabolites.MAM01623c: -1.0 #GTP[c]\n",
    "    })\n",
    "    model.add_reactions([interes, CTPc])\n",
    "    for r in model.exchanges:\n",
    "        r.lower_bound=0\n",
    "        r.upper_bound=0\n",
    "    glucosa.lower_bound=-1000\n",
    "    O2.lower_bound=-1000\n",
    "    NH3.lower_bound=-1000\n",
    "    Pi.lower_bound=-1000\n",
    "    CTPc.lower_bound=1 #CTP[c]\n",
    "    H2O.upper_bound=1000\n",
    "    CO2.upper_bound=1000\n",
    "    \n",
    "    sol=model.slim_optimize()\n",
    "    cobra.io.write_sbml_model(model,nombre+\"-CTP-de-novo-synthesis.xml\")\n",
    "    print(sol)"
   ]
  },
  {
   "cell_type": "markdown",
   "metadata": {},
   "source": [
    "GTP de novo synthesis"
   ]
  },
  {
   "cell_type": "code",
   "execution_count": 23,
   "metadata": {},
   "outputs": [
    {
     "name": "stdout",
     "output_type": "stream",
     "text": [
      "0.0\n"
     ]
    }
   ],
   "source": [
    "with model:\n",
    "    interes = Reaction('GTPdenovo')\n",
    "    interes.name = 'GTPdenovo'\n",
    "    interes.lower_bound = -1000.  # This is the default\n",
    "    interes.upper_bound = 1000.  # This is the default\n",
    "    interes.add_metabolites({\n",
    "        model.metabolites.MAM01371c: -1.0,\n",
    "        model.metabolites.MAM02040c: -1.0,\n",
    "        model.metabolites.MAM01285c: 1.0,\n",
    "        model.metabolites.MAM02751c: 1.0,\n",
    "        model.metabolites.MAM02039c: 1.0\n",
    "    })\n",
    "    \n",
    "    \n",
    "    GTPc = Reaction('CTPc')\n",
    "    GTPc.lower_bound = 0  \n",
    "    GTPc.upper_bound = 1000  \n",
    "    GTPc.add_metabolites({\n",
    "         model.metabolites.MAM01623c: -1.0 #GTP[c]\n",
    "    })\n",
    "    model.add_reactions([interes, GTPc])\n",
    "    for r in model.exchanges:\n",
    "        r.lower_bound=0\n",
    "        r.upper_bound=0\n",
    "    glucosa.lower_bound=-1000\n",
    "    O2.lower_bound=-1000\n",
    "    NH3.lower_bound=-1000\n",
    "    Pi.lower_bound=-1000\n",
    "    GTPc.lower_bound=1 #GTP[c]\n",
    "    H2O.upper_bound=1000\n",
    "    CO2.upper_bound=1000\n",
    "    \n",
    "    sol=model.slim_optimize()\n",
    "    cobra.io.write_sbml_model(model,nombre+\"-GTP-de-novo-synthesis.xml\")\n",
    "    print(sol)"
   ]
  },
  {
   "cell_type": "markdown",
   "metadata": {},
   "source": [
    "UTP de novo synthesis"
   ]
  },
  {
   "cell_type": "code",
   "execution_count": 24,
   "metadata": {},
   "outputs": [
    {
     "name": "stdout",
     "output_type": "stream",
     "text": [
      "0.0\n"
     ]
    }
   ],
   "source": [
    "with model:\n",
    "    interes = Reaction('UTPdenovo')\n",
    "    interes.name = 'UTPdenovo'\n",
    "    interes.lower_bound = -1000.  # This is the default\n",
    "    interes.upper_bound = 1000.  # This is the default\n",
    "    interes.add_metabolites({\n",
    "        model.metabolites.MAM01371c: -1.0,\n",
    "        model.metabolites.MAM02040c: -1.0,\n",
    "        model.metabolites.MAM01285c: 1.0,\n",
    "        model.metabolites.MAM02751c: 1.0,\n",
    "        model.metabolites.MAM02039c: 1.0\n",
    "    })\n",
    "    \n",
    "    \n",
    "    UTPc = Reaction('UTPc')\n",
    "    UTPc.lower_bound = 0  \n",
    "    UTPc.upper_bound = 1000  \n",
    "    UTPc.add_metabolites({\n",
    "         model.metabolites.MAM03130c: -1.0 #UTP[c]\n",
    "    })\n",
    "    \n",
    "    model.add_reactions([interes, UTPc])\n",
    "    for r in model.exchanges:\n",
    "        r.lower_bound=0\n",
    "        r.upper_bound=0\n",
    "    glucosa.lower_bound=-1000\n",
    "    O2.lower_bound=-1000\n",
    "    NH3.lower_bound=-1000\n",
    "    Pi.lower_bound=-1000\n",
    "    UTPc.lower_bound=1 #UTP[c]\n",
    "    H2O.upper_bound=1000\n",
    "    CO2.upper_bound=1000\n",
    "    \n",
    "    sol=model.slim_optimize()\n",
    "    cobra.io.write_sbml_model(model,nombre+\"-UTP-de-novo-synthesis.xml\")\n",
    "    \n",
    "    print(sol)"
   ]
  },
  {
   "cell_type": "markdown",
   "metadata": {},
   "source": [
    "dATP de novo synthesis"
   ]
  },
  {
   "cell_type": "code",
   "execution_count": 25,
   "metadata": {},
   "outputs": [
    {
     "name": "stdout",
     "output_type": "stream",
     "text": [
      "0.0\n"
     ]
    }
   ],
   "source": [
    "with model:\n",
    "    interes = Reaction('dATPdenovo')\n",
    "    interes.name = 'dATPdenovo'\n",
    "    interes.lower_bound = -1000.  # This is the default\n",
    "    interes.upper_bound = 1000.  # This is the default\n",
    "    interes.add_metabolites({\n",
    "        model.metabolites.MAM01371c: -1.0,\n",
    "        model.metabolites.MAM02040c: -1.0,\n",
    "        model.metabolites.MAM01285c: 1.0,\n",
    "        model.metabolites.MAM02751c: 1.0,\n",
    "        model.metabolites.MAM02039c: 1.0\n",
    "    })\n",
    "    dATPc = Reaction('dATPc')\n",
    "    dATPc.lower_bound = 0  \n",
    "    dATPc.upper_bound = 1000  \n",
    "    dATPc.add_metabolites({\n",
    "         model.metabolites.MAM01642c: -1.0 #dATP[c]\n",
    "    })\n",
    "    model.add_reactions([interes, dATPc])\n",
    "    for r in model.exchanges:\n",
    "        r.lower_bound=0\n",
    "        r.upper_bound=0\n",
    "    glucosa.lower_bound=-1000\n",
    "    O2.lower_bound=-1000\n",
    "    NH3.lower_bound=-1000\n",
    "    Pi.lower_bound=-1000\n",
    "    dATPc.lower_bound=1 \n",
    "    H2O.upper_bound=1000\n",
    "    CO2.upper_bound=1000\n",
    "\n",
    "    sol=model.slim_optimize()\n",
    "    cobra.io.write_sbml_model(model,nombre+\"-dATP-de-novo-synthesis.xml\")\n",
    "    print(sol)"
   ]
  },
  {
   "cell_type": "markdown",
   "metadata": {},
   "source": [
    "dCTP de novo synthesis"
   ]
  },
  {
   "cell_type": "code",
   "execution_count": 26,
   "metadata": {
    "scrolled": true
   },
   "outputs": [
    {
     "name": "stdout",
     "output_type": "stream",
     "text": [
      "0.0\n"
     ]
    }
   ],
   "source": [
    "with model:\n",
    "    interes = Reaction('dCTPdenovo')\n",
    "    interes.name = 'dCTPdenovo'\n",
    "    interes.lower_bound = -1000.  # This is the default\n",
    "    interes.upper_bound = 1000.  # This is the default\n",
    "    interes.add_metabolites({\n",
    "        model.metabolites.MAM01371c: -1.0,\n",
    "        model.metabolites.MAM02040c: -1.0,\n",
    "        model.metabolites.MAM01285c: 1.0,\n",
    "        model.metabolites.MAM02751c: 1.0,\n",
    "        model.metabolites.MAM02039c: 1.0\n",
    "    })\n",
    "\n",
    "    dCTPc = Reaction('dCTPc')\n",
    "    dCTPc.lower_bound = 0  \n",
    "    dCTPc.upper_bound = 1000  \n",
    "    dCTPc.add_metabolites({\n",
    "         model.metabolites.MAM01645c: -1.0 #dATP[c]\n",
    "    })\n",
    "    model.add_reactions([interes, dCTPc])\n",
    "    for r in model.exchanges:\n",
    "        r.lower_bound=0\n",
    "        r.upper_bound=0\n",
    "    glucosa.lower_bound=-1000\n",
    "    O2.lower_bound=-1000\n",
    "    NH3.lower_bound=-1000\n",
    "    Pi.lower_bound=-1000\n",
    "    dCTPc.lower_bound=1 \n",
    "    H2O.upper_bound=1000\n",
    "    CO2.upper_bound=1000\n",
    "\n",
    "    sol=model.slim_optimize()\n",
    "    cobra.io.write_sbml_model(model,nombre+\"-dCTP-de-novo-synthesis.xml\")\n",
    "    print(sol)"
   ]
  },
  {
   "cell_type": "markdown",
   "metadata": {},
   "source": [
    "dGTP de novo synthesis"
   ]
  },
  {
   "cell_type": "code",
   "execution_count": 27,
   "metadata": {},
   "outputs": [
    {
     "name": "stdout",
     "output_type": "stream",
     "text": [
      "0.0\n"
     ]
    }
   ],
   "source": [
    "with model:\n",
    "    interes = Reaction('dGTPdenovo')\n",
    "    interes.name = 'dGTPdenovo'\n",
    "    interes.lower_bound = -1000.  # This is the default\n",
    "    interes.upper_bound = 1000.  # This is the default\n",
    "    interes.add_metabolites({\n",
    "        model.metabolites.MAM01371c: -1.0,\n",
    "        model.metabolites.MAM02040c: -1.0,\n",
    "        model.metabolites.MAM01285c: 1.0,\n",
    "        model.metabolites.MAM02751c: 1.0,\n",
    "        model.metabolites.MAM02039c: 1.0\n",
    "    })\n",
    "    dGTPc = Reaction('dGTPc')\n",
    "    dGTPc.lower_bound = 0  \n",
    "    dGTPc.upper_bound = 1000  \n",
    "    dGTPc.add_metabolites({\n",
    "         model.metabolites.MAM01688c: -1.0 \n",
    "    })\n",
    "    model.add_reactions([interes, dGTPc])\n",
    "    for r in model.exchanges:\n",
    "        r.lower_bound=0\n",
    "        r.upper_bound=0\n",
    "    glucosa.lower_bound=-1000\n",
    "    O2.lower_bound=-1000\n",
    "    NH3.lower_bound=-1000\n",
    "    Pi.lower_bound=-1000\n",
    "    dGTPc.lower_bound=1 \n",
    "    H2O.upper_bound=1000\n",
    "    CO2.upper_bound=1000\n",
    "\n",
    "    sol=model.slim_optimize()\n",
    "    cobra.io.write_sbml_model(model,nombre+\"-dGTP-de-novo-synthesis.xml\")\n",
    "    print(sol)"
   ]
  },
  {
   "cell_type": "markdown",
   "metadata": {},
   "source": [
    "dTTP de novo synthesis"
   ]
  },
  {
   "cell_type": "code",
   "execution_count": 28,
   "metadata": {},
   "outputs": [
    {
     "name": "stdout",
     "output_type": "stream",
     "text": [
      "0.0\n"
     ]
    }
   ],
   "source": [
    "with model:\n",
    "    interes = Reaction('dTTPdenovo')\n",
    "    interes.name = 'dTTPdenovo'\n",
    "    interes.lower_bound = -1000.  # This is the default\n",
    "    interes.upper_bound = 1000.  # This is the default\n",
    "    interes.add_metabolites({\n",
    "        model.metabolites.MAM01371c: -1.0,\n",
    "        model.metabolites.MAM02040c: -1.0,\n",
    "        model.metabolites.MAM01285c: 1.0,\n",
    "        model.metabolites.MAM02751c: 1.0,\n",
    "        model.metabolites.MAM02039c: 1.0\n",
    "    })\n",
    "    dTTPc = Reaction('dTTPc')\n",
    "    dTTPc.lower_bound = 0  \n",
    "    dTTPc.upper_bound = 1000  \n",
    "    dTTPc.add_metabolites({\n",
    "         model.metabolites.MAM01753c: -1.0 \n",
    "    })\n",
    "    model.add_reactions([interes, dTTPc])\n",
    "    for r in model.exchanges:\n",
    "        r.lower_bound=0\n",
    "        r.upper_bound=0\n",
    "    glucosa.lower_bound=-1000\n",
    "    O2.lower_bound=-1000\n",
    "    NH3.lower_bound=-1000\n",
    "    Pi.lower_bound=-1000\n",
    "    dTTPc.lower_bound=1 \n",
    "    H2O.upper_bound=1000\n",
    "    CO2.upper_bound=1000\n",
    "\n",
    "    sol=model.slim_optimize()\n",
    "    cobra.io.write_sbml_model(model,nombre+\"-dTTP-de-novo-synthesis.xml\")\n",
    "    print(sol)"
   ]
  },
  {
   "cell_type": "markdown",
   "metadata": {},
   "source": [
    "# Uptake of essential amino acids"
   ]
  },
  {
   "cell_type": "markdown",
   "metadata": {},
   "source": [
    "Histidine uptake"
   ]
  },
  {
   "cell_type": "code",
   "execution_count": 29,
   "metadata": {},
   "outputs": [],
   "source": [
    "histidina=model.reactions.MAR09038"
   ]
  },
  {
   "cell_type": "code",
   "execution_count": 30,
   "metadata": {},
   "outputs": [
    {
     "name": "stdout",
     "output_type": "stream",
     "text": [
      "0.0\n"
     ]
    }
   ],
   "source": [
    "with model:\n",
    "    expulsar = Reaction('HistUptake')\n",
    "    expulsar.lower_bound = 0.  # This is the default\n",
    "    expulsar.upper_bound = 1000.  # This is the default\n",
    "    expulsar.add_metabolites({\n",
    "        model.metabolites.MAM02125c: -1.0,\n",
    "    })\n",
    "    model.add_reactions([expulsar])\n",
    "    \n",
    "    for r in model.exchanges:\n",
    "        r.lower_bound=0\n",
    "        r.upper_bound=0\n",
    "        \n",
    "    histidina.lower_bound=-1\n",
    "    histidina.upper_bound=-1\n",
    "    \n",
    "    expulsar.lower_bound=1\n",
    "    sol=model.slim_optimize()\n",
    "    cobra.io.write_sbml_model(model,nombre+\"-Histidine-uptake.xml\")\n",
    "    print(sol)"
   ]
  },
  {
   "cell_type": "code",
   "execution_count": 31,
   "metadata": {},
   "outputs": [],
   "source": [
    "isoleucina=model.reactions.MAR09039"
   ]
  },
  {
   "cell_type": "code",
   "execution_count": 32,
   "metadata": {},
   "outputs": [
    {
     "name": "stdout",
     "output_type": "stream",
     "text": [
      "0.0\n"
     ]
    }
   ],
   "source": [
    "with model:\n",
    "    expulsar = Reaction('IsoleucineUptake')\n",
    "    expulsar.lower_bound = 0.  # This is the default\n",
    "    expulsar.upper_bound = 1000.  # This is the default\n",
    "    expulsar.add_metabolites({\n",
    "        model.metabolites.MAM02184c: -1.0,\n",
    "    })\n",
    "    model.add_reactions([expulsar])\n",
    "    \n",
    "    for r in model.exchanges:\n",
    "        r.lower_bound=0\n",
    "        r.upper_bound=0\n",
    "    \n",
    "    isoleucina.lower_bound=-1\n",
    "    isoleucina.upper_bound=-1\n",
    "    \n",
    "    expulsar.lower_bound=1\n",
    "    sol=model.slim_optimize()\n",
    "    cobra.io.write_sbml_model(model,nombre+\"-Isoleucine-uptake.xml\")\n",
    "    print(sol)"
   ]
  },
  {
   "cell_type": "code",
   "execution_count": 33,
   "metadata": {},
   "outputs": [],
   "source": [
    "leucina=model.reactions.MAR09040"
   ]
  },
  {
   "cell_type": "code",
   "execution_count": 34,
   "metadata": {},
   "outputs": [
    {
     "name": "stdout",
     "output_type": "stream",
     "text": [
      "0.0\n"
     ]
    }
   ],
   "source": [
    "with model:\n",
    "    expulsar = Reaction('LeucineUptake')\n",
    "    expulsar.lower_bound = 0.  # This is the default\n",
    "    expulsar.upper_bound = 1000.  # This is the default\n",
    "    expulsar.add_metabolites({\n",
    "        model.metabolites.MAM02360c: -1.0,\n",
    "    })\n",
    "    model.add_reactions([expulsar])\n",
    "    \n",
    "    for r in model.exchanges:\n",
    "        r.lower_bound=0\n",
    "        r.upper_bound=0\n",
    "    \n",
    "    leucina.lower_bound=-1\n",
    "    leucina.upper_bound=-1\n",
    "    \n",
    "    expulsar.lower_bound=1\n",
    "    sol=model.slim_optimize()\n",
    "    cobra.io.write_sbml_model(model,nombre+\"-Leucine-uptake.xml\")\n",
    "    print(sol)"
   ]
  },
  {
   "cell_type": "code",
   "execution_count": 35,
   "metadata": {},
   "outputs": [],
   "source": [
    "lisina=model.reactions.MAR09041"
   ]
  },
  {
   "cell_type": "code",
   "execution_count": 36,
   "metadata": {},
   "outputs": [
    {
     "name": "stdout",
     "output_type": "stream",
     "text": [
      "0.0\n"
     ]
    }
   ],
   "source": [
    "with model:\n",
    "    expulsar = Reaction('LysineUptake')\n",
    "    expulsar.lower_bound = 0.  # This is the default\n",
    "    expulsar.upper_bound = 1000.  # This is the default\n",
    "    expulsar.add_metabolites({\n",
    "        model.metabolites.MAM02426c: -1.0,\n",
    "    })\n",
    "    model.add_reactions([expulsar])\n",
    "    \n",
    "    for r in model.exchanges:\n",
    "        r.lower_bound=0\n",
    "        r.upper_bound=0\n",
    "    \n",
    "    lisina.lower_bound=-1\n",
    "    lisina.upper_bound=-1\n",
    "    \n",
    "    expulsar.lower_bound=1\n",
    "    sol=model.slim_optimize()\n",
    "    cobra.io.write_sbml_model(model,nombre+\"-Lysine-uptake.xml\")\n",
    "    print(sol)"
   ]
  },
  {
   "cell_type": "code",
   "execution_count": 37,
   "metadata": {},
   "outputs": [],
   "source": [
    "metionina=model.reactions.MAR09042"
   ]
  },
  {
   "cell_type": "code",
   "execution_count": 38,
   "metadata": {},
   "outputs": [
    {
     "name": "stdout",
     "output_type": "stream",
     "text": [
      "0.0\n"
     ]
    }
   ],
   "source": [
    "with model:\n",
    "    expulsar = Reaction(\"MethionineUptake\")\n",
    "    expulsar.lower_bound = 0.  # This is the default\n",
    "    expulsar.upper_bound = 1000.  # This is the default\n",
    "    expulsar.add_metabolites({\n",
    "        model.metabolites.MAM02471c: -1.0,\n",
    "    })\n",
    "    model.add_reactions([expulsar])\n",
    "    \n",
    "    for r in model.exchanges:\n",
    "        r.lower_bound=0\n",
    "        r.upper_bound=0\n",
    "    \n",
    "    metionina.lower_bound=-1\n",
    "    metionina.upper_bound=-1\n",
    "    \n",
    "    expulsar.lower_bound=1\n",
    "    sol=model.slim_optimize()\n",
    "    cobra.io.write_sbml_model(model,nombre+\"-Methionine-uptake.xml\")\n",
    "    print(sol)"
   ]
  },
  {
   "cell_type": "code",
   "execution_count": 39,
   "metadata": {},
   "outputs": [],
   "source": [
    "fenilalanina=model.reactions.MAR09043"
   ]
  },
  {
   "cell_type": "code",
   "execution_count": 40,
   "metadata": {},
   "outputs": [
    {
     "name": "stdout",
     "output_type": "stream",
     "text": [
      "0.0\n"
     ]
    }
   ],
   "source": [
    "with model:\n",
    "    expulsar = Reaction(\"PhenylalanineUptake\")\n",
    "    expulsar.lower_bound = 0.  # This is the default\n",
    "    expulsar.upper_bound = 1000.  # This is the default\n",
    "    expulsar.add_metabolites({\n",
    "        model.metabolites.MAM02724c: -1.0,\n",
    "    })\n",
    "    model.add_reactions([expulsar])\n",
    "    \n",
    "    for r in model.exchanges:\n",
    "        r.lower_bound=0\n",
    "        r.upper_bound=0\n",
    "    \n",
    "    fenilalanina.lower_bound=-1\n",
    "    fenilalanina.upper_bound=-1\n",
    "    \n",
    "    expulsar.lower_bound=1\n",
    "    sol=model.slim_optimize()\n",
    "    cobra.io.write_sbml_model(model,nombre+\"-Phenyalanine-uptake.xml\")\n",
    "    print(sol)"
   ]
  },
  {
   "cell_type": "code",
   "execution_count": 41,
   "metadata": {},
   "outputs": [],
   "source": [
    "treonina=model.reactions.MAR09044"
   ]
  },
  {
   "cell_type": "code",
   "execution_count": 42,
   "metadata": {},
   "outputs": [
    {
     "name": "stdout",
     "output_type": "stream",
     "text": [
      "0.0\n"
     ]
    }
   ],
   "source": [
    "with model:\n",
    "    expulsar = Reaction(\"ThreonineUptake\")\n",
    "    expulsar.lower_bound = 0.  # This is the default\n",
    "    expulsar.upper_bound = 1000.  # This is the default\n",
    "    expulsar.add_metabolites({\n",
    "        model.metabolites.MAM02993c: -1.0,\n",
    "    })\n",
    "    model.add_reactions([expulsar])\n",
    "    \n",
    "    for r in model.exchanges:\n",
    "        r.lower_bound=0\n",
    "        r.upper_bound=0\n",
    "    \n",
    "    treonina.lower_bound=-1\n",
    "    treonina.upper_bound=-1\n",
    "    \n",
    "    expulsar.lower_bound=1\n",
    "    sol=model.slim_optimize()\n",
    "    cobra.io.write_sbml_model(model,nombre+\"-Threonine-uptake.xml\")\n",
    "    print(sol)"
   ]
  },
  {
   "cell_type": "code",
   "execution_count": 43,
   "metadata": {},
   "outputs": [],
   "source": [
    "triptofano=model.reactions.MAR09045"
   ]
  },
  {
   "cell_type": "code",
   "execution_count": 44,
   "metadata": {},
   "outputs": [
    {
     "name": "stdout",
     "output_type": "stream",
     "text": [
      "0.0\n"
     ]
    }
   ],
   "source": [
    "with model:\n",
    "    expulsar = Reaction(\"TryptophanUptake\")\n",
    "    expulsar.lower_bound = 0.  # This is the default\n",
    "    expulsar.upper_bound = 1000.  # This is the default\n",
    "    expulsar.add_metabolites({\n",
    "        model.metabolites.MAM03089c: -1.0,\n",
    "    })\n",
    "    model.add_reactions([expulsar])\n",
    "    \n",
    "    for r in model.exchanges:\n",
    "        r.lower_bound=0\n",
    "        r.upper_bound=0\n",
    "    \n",
    "    triptofano.lower_bound=-1\n",
    "    triptofano.upper_bound=-1\n",
    "    \n",
    "    expulsar.lower_bound=1\n",
    "    sol=model.slim_optimize()\n",
    "    cobra.io.write_sbml_model(model,nombre+\"-TryptophanUptake.xml\")\n",
    "    print(sol)"
   ]
  },
  {
   "cell_type": "code",
   "execution_count": 45,
   "metadata": {},
   "outputs": [],
   "source": [
    "valina=model.reactions.MAR09046"
   ]
  },
  {
   "cell_type": "code",
   "execution_count": 46,
   "metadata": {},
   "outputs": [
    {
     "name": "stdout",
     "output_type": "stream",
     "text": [
      "0.0\n"
     ]
    }
   ],
   "source": [
    "with model:\n",
    "    expulsar = Reaction(\"ValineUptake\")\n",
    "    expulsar.lower_bound = 0.  # This is the default\n",
    "    expulsar.upper_bound = 1000.  # This is the default\n",
    "    expulsar.add_metabolites({\n",
    "        model.metabolites.MAM03135c: -1.0,\n",
    "    })\n",
    "    model.add_reactions([expulsar])\n",
    "    \n",
    "    for r in model.exchanges:\n",
    "        r.lower_bound=0\n",
    "        r.upper_bound=0\n",
    "    \n",
    "    valina.lower_bound=-1\n",
    "    valina.upper_bound=-1\n",
    "    \n",
    "    expulsar.lower_bound=1\n",
    "    sol=model.slim_optimize()\n",
    "    cobra.io.write_sbml_model(model,nombre+\"-Valine-uptake.xml\")\n",
    "    print(sol)"
   ]
  },
  {
   "cell_type": "markdown",
   "metadata": {},
   "source": [
    "# De novo synthesis of key intermediates"
   ]
  },
  {
   "cell_type": "markdown",
   "metadata": {},
   "source": [
    "Glycerate 3-phosphate de novo syntesis"
   ]
  },
  {
   "cell_type": "code",
   "execution_count": 47,
   "metadata": {},
   "outputs": [
    {
     "name": "stdout",
     "output_type": "stream",
     "text": [
      "0.0\n"
     ]
    }
   ],
   "source": [
    "with model: \n",
    "    expulsar = Reaction('nueva')\n",
    "    expulsar.lower_bound = 0.  \n",
    "    expulsar.upper_bound = 1000. \n",
    "    expulsar.add_metabolites({\n",
    "        model.metabolites.MAM00913c : -1.0,\n",
    "    })\n",
    "    model.add_reactions([expulsar])\n",
    "    for r in model.exchanges:\n",
    "        r.lower_bound=0\n",
    "        r.upper_bound=0\n",
    "    O2.lower_bound=-1000\n",
    "    glucosa.lower_bound=-1000\n",
    "    Pi.lower_bound=-1000\n",
    "    \n",
    "    H2O.upper_bound=1000\n",
    "    CO2.upper_bound=1000\n",
    "    \n",
    "    expulsar.lower_bound=1\n",
    "    \n",
    "    sol=model.slim_optimize()\n",
    "    cobra.io.write_sbml_model(model,nombre+\"-G3P-de-novo-synthesis.xml\")\n",
    "    print(sol)"
   ]
  },
  {
   "cell_type": "markdown",
   "metadata": {},
   "source": [
    "### Mitochondrial acetyl-CoA de novo synthesis"
   ]
  },
  {
   "cell_type": "code",
   "execution_count": 48,
   "metadata": {},
   "outputs": [],
   "source": [
    "acetilCoA=model.metabolites.MAM01261m\n",
    "CoA=model.metabolites.MAM01597m"
   ]
  },
  {
   "cell_type": "code",
   "execution_count": 49,
   "metadata": {},
   "outputs": [
    {
     "name": "stdout",
     "output_type": "stream",
     "text": [
      "0.0 mAcCoASynthesis: MAM01261m --> MAM01597m\n"
     ]
    }
   ],
   "source": [
    "with model:\n",
    "    interes = Reaction('mAcCoASynthesis')\n",
    "    interes.name = 'mAcCoASynthesis'\n",
    "    interes.lower_bound = 0.  # This is the default\n",
    "    interes.upper_bound = 1000.  # This is the default\n",
    "    interes.add_metabolites({\n",
    "        acetilCoA: -1,\n",
    "        CoA: 1\n",
    "    })\n",
    "    model.add_reactions([interes])\n",
    "    for r in model.exchanges:\n",
    "        r.lower_bound=0\n",
    "        r.upper_bound=0\n",
    "    O2.lower_bound=-1000\n",
    "    glucosa.lower_bound=-1000\n",
    "    H2O.upper_bound=1000\n",
    "    CO2.upper_bound=1000\n",
    "    \n",
    "    interes.lower_bound=1\n",
    "    \n",
    "    sol=model.slim_optimize()\n",
    "    cobra.io.write_sbml_model(model,nombre+\"-Mitochondrial-AcCoA-synthesis.xml\")\n",
    "    print(sol, interes)"
   ]
  },
  {
   "cell_type": "markdown",
   "metadata": {},
   "source": [
    "Mitochondrial AKG de novo synthesis"
   ]
  },
  {
   "cell_type": "code",
   "execution_count": 50,
   "metadata": {},
   "outputs": [],
   "source": [
    "mAKG=model.metabolites.MAM01306m "
   ]
  },
  {
   "cell_type": "code",
   "execution_count": 51,
   "metadata": {},
   "outputs": [
    {
     "name": "stdout",
     "output_type": "stream",
     "text": [
      "0.0 mAKGSynthesis: MAM01306m --> \n"
     ]
    }
   ],
   "source": [
    "with model:\n",
    "    interes = Reaction('mAKGSynthesis')\n",
    "    interes.lower_bound = 0.  # This is the default\n",
    "    interes.upper_bound = 1000.  # This is the default\n",
    "    interes.add_metabolites({\n",
    "        mAKG:-1\n",
    "    })\n",
    "    model.add_reactions([interes])\n",
    "    for r in model.exchanges:\n",
    "        r.lower_bound=0\n",
    "        r.upper_bound=0\n",
    "    O2.lower_bound=-1000\n",
    "    glucosa.lower_bound=-1000\n",
    "    H2O.upper_bound=1000\n",
    "    CO2.upper_bound=1000\n",
    "    interes.lower_bound=1\n",
    "    \n",
    "    sol=model.slim_optimize()\n",
    "    cobra.io.write_sbml_model(model,nombre+\"-Mitochondrial-AKG-synthesis.xml\")\n",
    "    print(sol, interes)"
   ]
  },
  {
   "cell_type": "markdown",
   "metadata": {},
   "source": [
    "Erythrose 4-phosphate de novo synthesis"
   ]
  },
  {
   "cell_type": "code",
   "execution_count": 52,
   "metadata": {},
   "outputs": [],
   "source": [
    "eritrosa4P=model.metabolites.MAM01785c"
   ]
  },
  {
   "cell_type": "code",
   "execution_count": 53,
   "metadata": {},
   "outputs": [
    {
     "name": "stdout",
     "output_type": "stream",
     "text": [
      "0.0 Eritrosa4Pdenovo: MAM01785c --> \n"
     ]
    }
   ],
   "source": [
    "with model:\n",
    "    interes = Reaction('Eritrosa4Pdenovo')\n",
    "    interes.name = 'Eritrosa4Pdenovo'\n",
    "    interes.lower_bound = 0.  # This is the default\n",
    "    interes.upper_bound = 1000.  # This is the default\n",
    "    interes.add_metabolites({\n",
    "        eritrosa4P: -1\n",
    "    })\n",
    "    model.add_reactions([interes])\n",
    "    for r in model.exchanges:\n",
    "        r.lower_bound=0\n",
    "        r.upper_bound=0\n",
    "    O2.lower_bound=-1000\n",
    "    Pi.lower_bound=-1000\n",
    "    glucosa.lower_bound=-1000\n",
    "    H2O.upper_bound=1000\n",
    "    CO2.upper_bound=1000\n",
    "    \n",
    "    interes.lower_bound = 1\n",
    "    \n",
    "    sol=model.slim_optimize()\n",
    "    cobra.io.write_sbml_model(model,nombre+\"-Erythrose4P-de-novo.xml\")\n",
    "    print(sol, interes)"
   ]
  },
  {
   "cell_type": "markdown",
   "metadata": {},
   "source": [
    "Fructose 6-phosphate de novo synthesis"
   ]
  },
  {
   "cell_type": "code",
   "execution_count": 54,
   "metadata": {},
   "outputs": [],
   "source": [
    "fructosa6P=model.metabolites.MAM01845c"
   ]
  },
  {
   "cell_type": "code",
   "execution_count": 55,
   "metadata": {},
   "outputs": [
    {
     "name": "stdout",
     "output_type": "stream",
     "text": [
      "0.0 Fructosa6Pdenovo: MAM01845c --> \n"
     ]
    }
   ],
   "source": [
    "with model:\n",
    "    interes = Reaction('Fructosa6Pdenovo')\n",
    "    interes.name = 'Fructosa6Pdenovo'\n",
    "    interes.lower_bound = 0.  # This is the default\n",
    "    interes.upper_bound = 1000.  # This is the default\n",
    "    interes.add_metabolites({\n",
    "        fructosa6P: -1\n",
    "    })\n",
    "    model.add_reactions([interes])\n",
    "    for r in model.exchanges:\n",
    "        r.lower_bound=0\n",
    "        r.upper_bound=0\n",
    "    O2.lower_bound=-1000\n",
    "    Pi.lower_bound=-1000\n",
    "    glucosa.lower_bound=-1000\n",
    "    H2O.upper_bound=1000\n",
    "    CO2.upper_bound=1000\n",
    "    \n",
    "    interes.lower_bound = 1\n",
    "    \n",
    "    sol=model.slim_optimize()\n",
    "    cobra.io.write_sbml_model(model,nombre+\"-Fructose6P-de-novo.xml\")\n",
    "    print(sol, interes)"
   ]
  },
  {
   "cell_type": "markdown",
   "metadata": {},
   "source": [
    "Glyceraldehyde 3-phosphate de novo synthesis"
   ]
  },
  {
   "cell_type": "code",
   "execution_count": 56,
   "metadata": {},
   "outputs": [],
   "source": [
    "GAP=model.metabolites.MAM01939c"
   ]
  },
  {
   "cell_type": "code",
   "execution_count": 57,
   "metadata": {},
   "outputs": [
    {
     "name": "stdout",
     "output_type": "stream",
     "text": [
      "0.0 GAPdenovo: MAM01939c --> \n"
     ]
    }
   ],
   "source": [
    "with model:\n",
    "    interes = Reaction('GAPdenovo')\n",
    "    interes.name = 'GAPdenovo'\n",
    "    interes.lower_bound = 0.  # This is the default\n",
    "    interes.upper_bound = 1000.  # This is the default\n",
    "    interes.add_metabolites({\n",
    "        GAP: -1\n",
    "    })\n",
    "    model.add_reactions([interes])\n",
    "    for r in model.exchanges:\n",
    "        r.lower_bound=0\n",
    "        r.upper_bound=0\n",
    "    O2.lower_bound=-1000\n",
    "    Pi.lower_bound=-1000\n",
    "    glucosa.lower_bound=-1000\n",
    "    H2O.upper_bound=1000\n",
    "    CO2.upper_bound=1000\n",
    "    \n",
    "    interes.lower_bound = 1\n",
    "    \n",
    "    sol=model.slim_optimize()\n",
    "    cobra.io.write_sbml_model(model,nombre+\"-GAP-de-novo.xml\")\n",
    "    print(sol, interes)"
   ]
  },
  {
   "cell_type": "markdown",
   "metadata": {},
   "source": [
    "Glucose 6-phosphate de novo synthesis"
   ]
  },
  {
   "cell_type": "code",
   "execution_count": 58,
   "metadata": {},
   "outputs": [],
   "source": [
    "glucosa6P=model.metabolites.MAM01968c"
   ]
  },
  {
   "cell_type": "code",
   "execution_count": 59,
   "metadata": {},
   "outputs": [
    {
     "name": "stdout",
     "output_type": "stream",
     "text": [
      "0.0 Glucosa6Pdenovo: MAM01968c --> \n"
     ]
    }
   ],
   "source": [
    "with model:\n",
    "    interes = Reaction('Glucosa6Pdenovo')\n",
    "    interes.name = 'Glucosa6Pdenovo'\n",
    "    interes.lower_bound = 0.  # This is the default\n",
    "    interes.upper_bound = 1000.  # This is the default\n",
    "    interes.add_metabolites({\n",
    "        glucosa6P: -1\n",
    "    })\n",
    "    model.add_reactions([interes])\n",
    "    for r in model.exchanges:\n",
    "        r.lower_bound=0\n",
    "        r.upper_bound=0\n",
    "    O2.lower_bound=-1000\n",
    "    Pi.lower_bound=-1000\n",
    "    glucosa.lower_bound=-1000\n",
    "    H2O.upper_bound=1000\n",
    "    CO2.upper_bound=1000\n",
    "    \n",
    "    interes.lower_bound = 1\n",
    "    \n",
    "    sol=model.slim_optimize()\n",
    "    cobra.io.write_sbml_model(model,nombre+\"-Glucose6P-de-novo.xml\")\n",
    "    print(sol, interes)"
   ]
  },
  {
   "cell_type": "markdown",
   "metadata": {},
   "source": [
    "Mitochondrial oxaloacetate de novo synthesis"
   ]
  },
  {
   "cell_type": "code",
   "execution_count": 60,
   "metadata": {},
   "outputs": [],
   "source": [
    "mOAA=model.metabolites.MAM02633m"
   ]
  },
  {
   "cell_type": "code",
   "execution_count": 61,
   "metadata": {},
   "outputs": [
    {
     "name": "stdout",
     "output_type": "stream",
     "text": [
      "0.0 mOAAdenovo: MAM02633m --> \n"
     ]
    }
   ],
   "source": [
    "with model:\n",
    "    interes = Reaction('mOAAdenovo')\n",
    "    interes.name = 'mOAAdenovo'\n",
    "    interes.lower_bound = 0.  # This is the default\n",
    "    interes.upper_bound = 1000.  # This is the default\n",
    "    interes.add_metabolites({\n",
    "    mOAA: -1\n",
    "    })\n",
    "    model.add_reactions([interes])\n",
    "    for r in model.exchanges:\n",
    "        r.lower_bound=0\n",
    "        r.upper_bound=0\n",
    "    O2.lower_bound=-1000\n",
    "    Pi.lower_bound=-1000\n",
    "    glucosa.lower_bound=-1000\n",
    "    H2O.upper_bound=1000\n",
    "    CO2.upper_bound=1000\n",
    "    \n",
    "    interes.lower_bound = 1\n",
    "    \n",
    "    sol=model.slim_optimize()\n",
    "    cobra.io.write_sbml_model(model,nombre+\"-Mitochondrial-OAA-de-novo.xml\")\n",
    "    print(sol, interes)"
   ]
  },
  {
   "cell_type": "markdown",
   "metadata": {},
   "source": [
    "Phosphoenolpyruvate de novo synthesis"
   ]
  },
  {
   "cell_type": "code",
   "execution_count": 62,
   "metadata": {},
   "outputs": [],
   "source": [
    "PEP=model.metabolites.MAM02696c"
   ]
  },
  {
   "cell_type": "code",
   "execution_count": 63,
   "metadata": {},
   "outputs": [
    {
     "name": "stdout",
     "output_type": "stream",
     "text": [
      "0.0 PEPdenovo: MAM02696c --> \n"
     ]
    }
   ],
   "source": [
    "with model:\n",
    "    interes = Reaction('PEPdenovo')\n",
    "    interes.name = 'PEPdenovo'\n",
    "    interes.lower_bound = 0.  # This is the default\n",
    "    interes.upper_bound = 1000.  # This is the default\n",
    "    interes.add_metabolites({\n",
    "    PEP: -1\n",
    "    })\n",
    "    model.add_reactions([interes])\n",
    "    for r in model.exchanges:\n",
    "        r.lower_bound=0\n",
    "        r.upper_bound=0\n",
    "    O2.lower_bound=-1000\n",
    "    Pi.lower_bound=-1000\n",
    "    glucosa.lower_bound=-1000\n",
    "    H2O.upper_bound=1000\n",
    "    CO2.upper_bound=1000\n",
    "    \n",
    "    interes.lower_bound = 1\n",
    "    \n",
    "    sol=model.slim_optimize()\n",
    "    cobra.io.write_sbml_model(model,nombre+\"-PEP-de-novo.xml\")\n",
    "    print(sol, interes)"
   ]
  },
  {
   "cell_type": "markdown",
   "metadata": {},
   "source": [
    "Pyruvate de novo synthesis"
   ]
  },
  {
   "cell_type": "code",
   "execution_count": 64,
   "metadata": {},
   "outputs": [],
   "source": [
    "piruvato=model.metabolites.MAM02819c"
   ]
  },
  {
   "cell_type": "code",
   "execution_count": 65,
   "metadata": {},
   "outputs": [
    {
     "name": "stdout",
     "output_type": "stream",
     "text": [
      "0.0 PyrDenovo: MAM02819c --> \n"
     ]
    }
   ],
   "source": [
    "with model:\n",
    "    interes = Reaction('PyrDenovo')\n",
    "    interes.name = 'PyrDenovo'\n",
    "    interes.lower_bound = 0.  # This is the default\n",
    "    interes.upper_bound = 1000.  # This is the default\n",
    "    interes.add_metabolites({\n",
    "    piruvato: -1\n",
    "    })\n",
    "    model.add_reactions([interes])\n",
    "    for r in model.exchanges:\n",
    "        r.lower_bound=0\n",
    "        r.upper_bound=0\n",
    "    O2.lower_bound=-1000\n",
    "    Pi.lower_bound=-1000\n",
    "    glucosa.lower_bound=-1000\n",
    "    H2O.upper_bound=1000\n",
    "    CO2.upper_bound=1000\n",
    "    \n",
    "    interes.lower_bound = 1\n",
    "    \n",
    "    sol=model.slim_optimize()\n",
    "    cobra.io.write_sbml_model(model,nombre+\"-Pyruvate-de-novo.xml\")\n",
    "    print(sol, interes)"
   ]
  },
  {
   "cell_type": "markdown",
   "metadata": {},
   "source": [
    "Ribose 5-phosphate de novo synthesis"
   ]
  },
  {
   "cell_type": "code",
   "execution_count": 66,
   "metadata": {},
   "outputs": [],
   "source": [
    "ribosa5P=model.metabolites.MAM02845c"
   ]
  },
  {
   "cell_type": "code",
   "execution_count": 67,
   "metadata": {},
   "outputs": [
    {
     "name": "stdout",
     "output_type": "stream",
     "text": [
      "0.0 Rib5Penovo: MAM02845c --> \n"
     ]
    }
   ],
   "source": [
    "with model:\n",
    "    interes = Reaction('Rib5Penovo')\n",
    "    interes.name = 'Rib5Pdenovo'\n",
    "    interes.lower_bound = 0.  # This is the default\n",
    "    interes.upper_bound = 1000.  # This is the default\n",
    "    interes.add_metabolites({\n",
    "    ribosa5P: -1\n",
    "    })\n",
    "    model.add_reactions([interes])\n",
    "    for r in model.exchanges:\n",
    "        r.lower_bound=0\n",
    "        r.upper_bound=0\n",
    "    O2.lower_bound=-1000\n",
    "    Pi.lower_bound=-1000\n",
    "    glucosa.lower_bound=-1000\n",
    "    H2O.upper_bound=1000\n",
    "    CO2.upper_bound=1000\n",
    "    \n",
    "    interes.lower_bound = 1\n",
    "    \n",
    "    sol=model.slim_optimize()\n",
    "    cobra.io.write_sbml_model(model,nombre+\"-Ribose5P-de-novo.xml\")\n",
    "    print(sol, interes)"
   ]
  },
  {
   "cell_type": "markdown",
   "metadata": {},
   "source": [
    "Mitochondrial succinyl-CoA de novo synthesis"
   ]
  },
  {
   "cell_type": "code",
   "execution_count": 68,
   "metadata": {},
   "outputs": [],
   "source": [
    "succinilCoA=model.metabolites.MAM02944m\n",
    "mCoA=model.metabolites.MAM01597m"
   ]
  },
  {
   "cell_type": "code",
   "execution_count": 69,
   "metadata": {},
   "outputs": [
    {
     "name": "stdout",
     "output_type": "stream",
     "text": [
      "0.0\n"
     ]
    }
   ],
   "source": [
    "with model:\n",
    "    interes = Reaction('mSuccCoASynthesis')\n",
    "    interes.name = 'mSuccCoASynthesis'\n",
    "    interes.lower_bound = 0.  # This is the default\n",
    "    interes.upper_bound = 1000.  # This is the default\n",
    "    interes.add_metabolites({\n",
    "        succinilCoA: -1.0,\n",
    "        mCoA: 1\n",
    "    })\n",
    "    model.add_reactions([interes])\n",
    "    for r in model.exchanges:\n",
    "        r.lower_bound=0\n",
    "        r.upper_bound=0\n",
    "    O2.lower_bound=-1000\n",
    "    glucosa.lower_bound=-1000\n",
    "    Pi.lower_bound=-1000\n",
    "    H2O.upper_bound=1000\n",
    "    CO2.upper_bound=1000\n",
    "    \n",
    "    interes.lower_bound = 1\n",
    "    \n",
    "    sol=model.slim_optimize()\n",
    "    cobra.io.write_sbml_model(model,nombre+\"-Mitochondrial-SuccCoA-synthesis.xml\")\n",
    "    print(sol)"
   ]
  },
  {
   "cell_type": "markdown",
   "metadata": {},
   "source": [
    "# De novo synthesis of other compounds"
   ]
  },
  {
   "cell_type": "markdown",
   "metadata": {},
   "source": [
    "Cholesterol de novo synthesis"
   ]
  },
  {
   "cell_type": "code",
   "execution_count": null,
   "metadata": {},
   "outputs": [],
   "source": [
    "colesterol=model.metabolites.MAM01450c"
   ]
  },
  {
   "cell_type": "code",
   "execution_count": 71,
   "metadata": {},
   "outputs": [
    {
     "name": "stdout",
     "output_type": "stream",
     "text": [
      "0.0 CholesterolSynthesis: MAM01450c --> \n"
     ]
    }
   ],
   "source": [
    "with model:\n",
    "    interes = Reaction('CholesterolSynthesis')\n",
    "    interes.name = 'Cholesterol Synthesis'\n",
    "    interes.lower_bound = 0.  # This is the default\n",
    "    interes.upper_bound = 1000.  # This is the default\n",
    "    interes.add_metabolites({\n",
    "        colesterol: -1\n",
    "    })\n",
    "    model.add_reactions([interes])\n",
    "    for r in model.exchanges:\n",
    "        r.lower_bound=0\n",
    "        r.upper_bound=0\n",
    "    O2.lower_bound=-1000\n",
    "    glucosa.lower_bound=-1000\n",
    "    H2O.upper_bound=1000\n",
    "    CO2.upper_bound=1000\n",
    "    \n",
    "    interes.lower_bound = 1\n",
    "    \n",
    "    sol=model.slim_optimize()\n",
    "    cobra.io.write_sbml_model(model,nombre+\"-Cholesterol-synthesis.xml\")\n",
    "    print(sol, interes)"
   ]
  },
  {
   "cell_type": "markdown",
   "metadata": {},
   "source": [
    "# Protein turnover"
   ]
  },
  {
   "cell_type": "markdown",
   "metadata": {},
   "source": [
    "Protein synthesis from AAs"
   ]
  },
  {
   "cell_type": "code",
   "execution_count": null,
   "metadata": {},
   "outputs": [],
   "source": [
    "arginina=model.reactions.MAR09066\n",
    "tirosina=model.reactions.MAR09064\n",
    "alanina=model.reactions.MAR09061\n",
    "glicina=model.reactions.MAR09067\n",
    "serina=model.reactions.MAR09069\n",
    "aspartato=model.reactions.MAR09097\n",
    "glutamato=model.reactions.MAR09071\n",
    "asparagina=model.reactions.MAR09062\n",
    "glutamina=model.reactions.MAR09063\n",
    "prolina=model.reactions.MAR09068\n",
    "cisteina=model.reactions.MAR09065"
   ]
  },
  {
   "cell_type": "code",
   "execution_count": 83,
   "metadata": {},
   "outputs": [],
   "source": [
    "aminoacidos=[arginina, histidina, lisina, metionina, fenilalanina, triptofano, \n",
    "             tirosina, alanina, glicina, serina, treonina, aspartato, glutamato, \n",
    "             asparagina, glutamina, isoleucina, leucina, prolina, valina ,cisteina]"
   ]
  },
  {
   "cell_type": "code",
   "execution_count": 84,
   "metadata": {},
   "outputs": [],
   "source": [
    "urea=model.reactions.MAR09730"
   ]
  },
  {
   "cell_type": "code",
   "execution_count": 85,
   "metadata": {},
   "outputs": [],
   "source": [
    "H2S=model.reactions.MAR09103"
   ]
  },
  {
   "cell_type": "code",
   "execution_count": 86,
   "metadata": {},
   "outputs": [
    {
     "name": "stdout",
     "output_type": "stream",
     "text": [
      "0.0 ProteinSynthesis: MAM01308c --> \n"
     ]
    }
   ],
   "source": [
    "with model:\n",
    "    albumina = Reaction('ProteinSynthesis')\n",
    "    albumina.lower_bound = 0.  # This is the default\n",
    "    albumina.upper_bound = 1000.  # This is the default\n",
    "    albumina.add_metabolites({\n",
    "        model.metabolites.MAM01308c: -1\n",
    "        \n",
    "    })\n",
    "    model.add_reactions([albumina])\n",
    "    for r in model.exchanges:\n",
    "        r.lower_bound=0\n",
    "        r.upper_bound=0\n",
    "    for i in aminoacidos:\n",
    "        i.lower_bound=-1000\n",
    "    \n",
    "    O2.lower_bound=-1000\n",
    "    glucosa.lower_bound=-1000\n",
    "    H2O.lower_bound=-1000\n",
    "    NH3.lower_bound=-1000\n",
    "    \n",
    "    CO2.upper_bound=1000\n",
    "    H2O.upper_bound=1000\n",
    "    urea=upper_bound=1000\n",
    "    H2S=upper_bound=1000\n",
    "    \n",
    "    albumina.lower_bound = 0.0001\n",
    "    \n",
    "    sol=model.slim_optimize()\n",
    "    cobra.io.write_sbml_model(model,nombre+\"-Protein-synthesis.xml\")\n",
    "    print(sol, albumina)"
   ]
  },
  {
   "cell_type": "markdown",
   "metadata": {},
   "source": [
    "# Electron transport chain and TCA"
   ]
  },
  {
   "cell_type": "markdown",
   "metadata": {},
   "source": [
    "Oxidative phosphorylation"
   ]
  },
  {
   "cell_type": "code",
   "execution_count": 87,
   "metadata": {},
   "outputs": [],
   "source": [
    "succinato=model.metabolites.MAM02943m\n",
    "mNADH=model.metabolites.MAM02553m\n",
    "mNAD=model.metabolites.MAM02552m\n",
    "fumarato=model.metabolites.MAM01862m\n",
    "mH = model.metabolites.MAM02039m\n",
    "mATP=model.metabolites.MAM01371m\n",
    "mADP=model.metabolites.MAM01285m\n",
    "mH2O=model.metabolites.MAM02040m\n",
    "mPi=model.metabolites.MAM02751m"
   ]
  },
  {
   "cell_type": "code",
   "execution_count": 88,
   "metadata": {},
   "outputs": [
    {
     "name": "stdout",
     "output_type": "stream",
     "text": [
      "0.0\n"
     ]
    }
   ],
   "source": [
    "with model:\n",
    "    interes = Reaction('OxidativePhosphorilation')\n",
    "    interes.name = 'OxidativePhosphorilation'\n",
    "    interes.lower_bound = 0.  # This is the default\n",
    "    interes.upper_bound = 1000.  # This is the default\n",
    "    interes.add_metabolites({\n",
    "        mATP: -1.0,\n",
    "        mH2O:-1.0,\n",
    "        mADP: 1,\n",
    "        mPi:1,\n",
    "        mH:1\n",
    "    })\n",
    "    \n",
    "    succinatoR = Reaction(\"Succinato\")\n",
    "    succinatoR.lower_bound=-1000\n",
    "    succinatoR.upper_bound=1000\n",
    "    succinatoR.add_metabolites({\n",
    "        succinato: -1.0,\n",
    "        mNADH:-1.0,\n",
    "        mH: -1.0\n",
    "        \n",
    "    })\n",
    "    \n",
    "    fumaratoR = Reaction(\"Fumarato\")\n",
    "    fumaratoR.lower_bound=0\n",
    "    fumaratoR.upper_bound=1000\n",
    "    fumaratoR.add_metabolites({\n",
    "        fumarato: -1.0,\n",
    "        mNAD:-1.0\n",
    "    })\n",
    "    \n",
    "    model.add_reactions([interes, succinatoR, fumaratoR])\n",
    "    \n",
    "    for r in model.exchanges:\n",
    "        r.lower_bound=0\n",
    "        r.upper_bound=0\n",
    "    O2.lower_bound=-1000\n",
    "    H2O.upper_bound=1000\n",
    "    fumaratoR.lower_bound=1\n",
    "    fumaratoR.upper_bound=1\n",
    "    succinatoR.lower_bound=-1\n",
    "    succinatoR.upper_bound=-1\n",
    "    interes.lower_bound=1\n",
    "    sol=model.slim_optimize()\n",
    "    cobra.io.write_sbml_model(model,nombre+\"-Oxidative-phosphorilation.xml\")\n",
    "    print(sol)"
   ]
  },
  {
   "cell_type": "markdown",
   "metadata": {},
   "source": [
    "Oxidative decarboxylation"
   ]
  },
  {
   "cell_type": "code",
   "execution_count": 90,
   "metadata": {},
   "outputs": [
    {
     "name": "stdout",
     "output_type": "stream",
     "text": [
      "0.0\n"
     ]
    }
   ],
   "source": [
    "with model:\n",
    "    entrada = Reaction('OxidativeDecarboxilation')\n",
    "    entrada.lower_bound = -1000.  # This is the default\n",
    "    entrada.upper_bound = 0.  # This is the default\n",
    "    entrada.add_metabolites({\n",
    "        model.metabolites.MAM02819m: -1.0,\n",
    "        mNAD:-1.0,\n",
    "        mCoA: -1\n",
    "    })\n",
    "    \n",
    "    salida = Reaction(\"OxidativeDecarboxilation_2\")\n",
    "    salida.lower_bound=0\n",
    "    salida.upper_bound=1000\n",
    "    salida.add_metabolites({\n",
    "        acetilCoA: -1.0,\n",
    "        mNADH:-1.0\n",
    "        \n",
    "    })\n",
    "    \n",
    "    hidrogeno=Reaction(\"Hidrogeno\")\n",
    "    hidrogeno.lower_bound=0\n",
    "    hidrogeno.upper_bpound=1000\n",
    "    hidrogeno.add_metabolites({\n",
    "        mH: -1.0\n",
    "        \n",
    "    })\n",
    "    \n",
    "    model.add_reactions([entrada, salida, hidrogeno])\n",
    "    \n",
    "    for r in model.exchanges:\n",
    "        r.lower_bound=0\n",
    "        r.upper_bound=0\n",
    "        \n",
    "    CO2.upper_bound=1\n",
    "    CO2.lower_bound=1   \n",
    "    \n",
    "    entrada.lower_bound=-1\n",
    "    entrada.upper_bound=-1\n",
    "    \n",
    "    salida.upper_bound=1\n",
    "    salida.lower_bound=1\n",
    "    \n",
    "    \n",
    "    sol=model.slim_optimize()\n",
    "    cobra.io.write_sbml_model(model,nombre+\"-Oxidative-decarboxilation.xml\")\n",
    "    print(sol)"
   ]
  },
  {
   "cell_type": "markdown",
   "metadata": {},
   "source": [
    "Krebs cycle NADH"
   ]
  },
  {
   "cell_type": "code",
   "execution_count": 91,
   "metadata": {},
   "outputs": [],
   "source": [
    "ubiquinone=model.metabolites.MAM03103m\n",
    "ubiquinol=model.metabolites.MAM03102m\n",
    "acetilCoA=model.metabolites.MAM01261m\n",
    "mGTP=model.metabolites.MAM02034m\n",
    "mGDP=model.metabolites.MAM01948m\n",
    "mPi=model.metabolites.MAM02751m"
   ]
  },
  {
   "cell_type": "code",
   "execution_count": 92,
   "metadata": {},
   "outputs": [
    {
     "name": "stdout",
     "output_type": "stream",
     "text": [
      "0.0\n"
     ]
    }
   ],
   "source": [
    "with model:\n",
    "    entrada = Reaction('TCA')\n",
    "    entrada.lower_bound = -1000  # This is the default\n",
    "    entrada.upper_bound = 1000.  # This is the default\n",
    "    entrada.add_metabolites({\n",
    "        acetilCoA: -1.0,\n",
    "        mGDP:-1.0,\n",
    "        ubiquinone: -1,\n",
    "    })\n",
    "    \n",
    "    salida = Reaction(\"TCA_2\")\n",
    "    salida.lower_bound=-1000\n",
    "    salida.upper_bound=1000\n",
    "    salida.add_metabolites({\n",
    "        ubiquinol: -1.0,\n",
    "        mGTP:-1.0,\n",
    "        mCoA: -1.0\n",
    "        \n",
    "    })\n",
    "    \n",
    "    NADH =Reaction(\"NADH\")\n",
    "    NADH.lower_bound=3\n",
    "    NADH.upper_bound=3\n",
    "    NADH.add_metabolites({\n",
    "        mNADH:-1.0})\n",
    "    \n",
    "    \n",
    "    NAD =Reaction(\"NAD\")\n",
    "    NAD.lower_bound=-3\n",
    "    NAD.upper_bound=-3\n",
    "    NAD.add_metabolites({\n",
    "        mNAD:-1.0})\n",
    "    \n",
    "    Pi =Reaction(\"Pi\")\n",
    "    Pi.lower_bound=-1000\n",
    "    Pi.upper_bound=1000\n",
    "    Pi.add_metabolites({\n",
    "        mPi:-1.0})\n",
    "    \n",
    "    hidrogeno=Reaction(\"Hidrogeno\")\n",
    "    hidrogeno.lower_bound=0\n",
    "    hidrogeno.upper_bpound=1000\n",
    "    hidrogeno.add_metabolites({\n",
    "        mH: -1.0,\n",
    "        model.metabolites.MAM02039c:-1     \n",
    "    })\n",
    "    model.add_reactions([entrada, salida, NADH, NAD, Pi, hidrogeno])\n",
    "    \n",
    "    for r in model.exchanges:\n",
    "        r.lower_bound=0\n",
    "        r.upper_bound=0\n",
    "    H2O.lower_bound=-1000\n",
    "    CO2.upper_bound=1000\n",
    "    \n",
    "    sol=model.slim_optimize()\n",
    "    cobra.io.write_sbml_model(model,nombre+\"-Krebs-cycle-NADH.xml\")\n",
    "    print(sol)"
   ]
  },
  {
   "cell_type": "markdown",
   "metadata": {},
   "source": [
    "Ubiquinol-to-proton"
   ]
  },
  {
   "cell_type": "code",
   "execution_count": 94,
   "metadata": {},
   "outputs": [
    {
     "name": "stdout",
     "output_type": "stream",
     "text": [
      "0.0\n"
     ]
    }
   ],
   "source": [
    "with model:\n",
    "    entrada = Reaction('Ubiquinol')\n",
    "    entrada.lower_bound = -1000 # This is the default\n",
    "    entrada.upper_bound = 0  # This is the default\n",
    "    entrada.add_metabolites({\n",
    "        ubiquinol: -1.0       \n",
    "    })\n",
    "    \n",
    "    salida = Reaction(\"Ubiquinona\")\n",
    "    salida.lower_bound=0\n",
    "    salida.upper_bound=1000\n",
    "    salida.add_metabolites({\n",
    "        ubiquinone: -1.0       \n",
    "    })\n",
    "        \n",
    "    hidrogeno=Reaction(\"Hidrogeno_mit\")\n",
    "    hidrogeno.lower_bound=-1000\n",
    "    hidrogeno.upper_bound=1000\n",
    "    hidrogeno.add_metabolites({\n",
    "        mH: -1.0\n",
    "        \n",
    "    })\n",
    "    \n",
    "    hidrogeno_c=Reaction(\"Hidrogeno_cit\")\n",
    "    hidrogeno_c.lower_bound=6\n",
    "    hidrogeno_c.upper_bound=1000\n",
    "    hidrogeno_c.add_metabolites({\n",
    "        model.metabolites.MAM02039c:-1 \n",
    "        \n",
    "    })\n",
    "    model.add_reactions([entrada, salida, hidrogeno, hidrogeno_c])\n",
    "    \n",
    "    for r in model.exchanges:\n",
    "        r.lower_bound=0\n",
    "        r.upper_bound=0\n",
    "    O2.lower_bound=-1000\n",
    "    H2O.upper_bound=1000\n",
    "    entrada.lower_bound =-1\n",
    "    entrada.upper_bound =-1\n",
    "    salida.lower_bound = 1\n",
    "    salida.upper_bound = 1\n",
    "    \n",
    "    sol=model.slim_optimize()\n",
    "    cobra.io.write_sbml_model(model,nombre+\"-Ubiquinol-to-proton.xml\")\n",
    "    print(sol)"
   ]
  },
  {
   "cell_type": "markdown",
   "metadata": {},
   "source": [
    "Ubiquinol-to-ATP"
   ]
  },
  {
   "cell_type": "code",
   "execution_count": 95,
   "metadata": {},
   "outputs": [
    {
     "name": "stdout",
     "output_type": "stream",
     "text": [
      "0.0\n"
     ]
    }
   ],
   "source": [
    "with model:\n",
    "    entrada = Reaction('Ubiquinol')\n",
    "    entrada.lower_bound = -1000 # This is the default\n",
    "    entrada.upper_bound = 1000.  # This is the default\n",
    "    entrada.add_metabolites({\n",
    "        ubiquinol: -1.0       \n",
    "    })\n",
    "    \n",
    "    salida = Reaction(\"Ubiquinona\")\n",
    "    salida.lower_bound=0\n",
    "    salida.upper_bound=1000\n",
    "    salida.add_metabolites({\n",
    "        ubiquinone: -1.0       \n",
    "    })\n",
    "        \n",
    "    hidrogeno=Reaction(\"Hidrogeno\")\n",
    "    hidrogeno.lower_bound=0\n",
    "    hidrogeno.upper_bpound=1000\n",
    "    hidrogeno.add_metabolites({\n",
    "        mH: -1.0,\n",
    "        model.metabolites.MAM02039c:-1     \n",
    "    })\n",
    "    \n",
    "    model.add_reactions([entrada, salida, hidrogeno])\n",
    "    \n",
    "    for r in model.exchanges:\n",
    "        r.lower_bound=0\n",
    "        r.upper_bound=0\n",
    "    O2.lower_bound=-1000\n",
    "    H2O.upper_bound=1000\n",
    "    entrada.lower_bound =-1\n",
    "    entrada.upper_bound =-1\n",
    "    salida.lower_bound = 1\n",
    "    salida.upper_bound = 1\n",
    "    \n",
    "    sol=model.slim_optimize()\n",
    "    cobra.io.write_sbml_model(model,nombre+\"-Ubiquinol-to-ATP.xml\")\n",
    "    print(sol)"
   ]
  },
  {
   "cell_type": "markdown",
   "metadata": {},
   "source": [
    "# Beta oxidation of fatty acids"
   ]
  },
  {
   "cell_type": "markdown",
   "metadata": {},
   "source": [
    "Beta oxidation of saturated FA"
   ]
  },
  {
   "cell_type": "code",
   "execution_count": 13,
   "metadata": {},
   "outputs": [],
   "source": [
    "stereate=model.reactions.MAR00248"
   ]
  },
  {
   "cell_type": "code",
   "execution_count": 14,
   "metadata": {},
   "outputs": [
    {
     "name": "stdout",
     "output_type": "stream",
     "text": [
      "0.0 BOxidationSatFA: MAM01371c + MAM02040c --> MAM01285c + MAM02039c + MAM02751c\n"
     ]
    }
   ],
   "source": [
    "with model:\n",
    "    interes = Reaction('BOxidationSatFA')\n",
    "    interes.lower_bound = 0  # This is the default\n",
    "    interes.upper_bound = 1000.  # This is the default\n",
    "    interes.add_metabolites({\n",
    "        model.metabolites.MAM01371c: -1.0,\n",
    "        model.metabolites.MAM02040c: -1.0,\n",
    "        model.metabolites.MAM01285c: 1.0,\n",
    "        model.metabolites.MAM02751c: 1.0,\n",
    "        model.metabolites.MAM02039c: 1.0\n",
    "    })\n",
    "    model.add_reactions([interes])\n",
    "    \n",
    "    \n",
    "    for r in model.exchanges:\n",
    "        r.lower_bound=0\n",
    "        r.upper_bound=0\n",
    "    \n",
    "    O2.lower_bound=-1000\n",
    "    stereate.lower_bound=-1\n",
    "    stereate.upper_bound=-1\n",
    "    H2O.upper_bound=1000\n",
    "    CO2.upper_bound=1000\n",
    "    \n",
    "    sol=model.slim_optimize()\n",
    "    cobra.io.write_sbml_model(model,nombre+\"-BOxidationSatFA.xml\")\n",
    "    print(sol, interes)"
   ]
  },
  {
   "cell_type": "markdown",
   "metadata": {},
   "source": [
    "Beta oxidation of long-chain FA"
   ]
  },
  {
   "cell_type": "code",
   "execution_count": null,
   "metadata": {},
   "outputs": [],
   "source": [
    "tetracoAcid =  model.reactions.MAR13050"
   ]
  },
  {
   "cell_type": "code",
   "execution_count": 99,
   "metadata": {},
   "outputs": [
    {
     "name": "stdout",
     "output_type": "stream",
     "text": [
      "0.0\n"
     ]
    }
   ],
   "source": [
    "with model:\n",
    "    for r in model.exchanges:\n",
    "        r.knock_out()\n",
    "    tetracoAcid.lower_bound=-1\n",
    "    tetracoAcid.upper_bound=-1\n",
    "    O2.lower_bound=-1000\n",
    "    H2O.upper_bound=1000\n",
    "    CO2.upper_bound=1000\n",
    "    \n",
    "    sol=model.slim_optimize()\n",
    "    cobra.io.write_sbml_model(model,nombre+\"-Beta-oxidation-of-long-chain-FA.xml\")\n",
    "    print(sol)"
   ]
  },
  {
   "cell_type": "markdown",
   "metadata": {},
   "source": [
    "Beta oxidation of odd-chain FA"
   ]
  },
  {
   "cell_type": "code",
   "execution_count": null,
   "metadata": {},
   "outputs": [],
   "source": [
    "margaricAcid= model.reactions.MAR00620"
   ]
  },
  {
   "cell_type": "code",
   "execution_count": 101,
   "metadata": {},
   "outputs": [
    {
     "name": "stdout",
     "output_type": "stream",
     "text": [
      "0.0\n"
     ]
    }
   ],
   "source": [
    "with model:\n",
    "    interes = Reaction('BOxidationODFA')\n",
    "    interes.lower_bound = 0  # This is the default\n",
    "    interes.upper_bound = 1000.  # This is the default\n",
    "    interes.add_metabolites({\n",
    "        model.metabolites.MAM01371c: -1.0,\n",
    "        model.metabolites.MAM02040c: -1.0,\n",
    "        model.metabolites.MAM01285c: 1.0,\n",
    "        model.metabolites.MAM02751c: 1.0,\n",
    "        model.metabolites.MAM02039c: 1.0\n",
    "    })\n",
    "    model.add_reactions([interes])\n",
    "    for r in model.exchanges:\n",
    "        r.knock_out()\n",
    "    margaricAcid.lower_bound=-1\n",
    "    margaricAcid.upper_bound=-1\n",
    "    O2.lower_bound=-1000\n",
    "    H2O.upper_bound=1000\n",
    "    CO2.upper_bound=1000\n",
    "    \n",
    "    sol=model.slim_optimize()\n",
    "    cobra.io.write_sbml_model(model,nombre+\"-BOxidationOddFA.xml\")\n",
    "    print(sol)"
   ]
  },
  {
   "cell_type": "markdown",
   "metadata": {},
   "source": [
    "Beta oxidation of unsaturated fatty acid (n-9) "
   ]
  },
  {
   "cell_type": "code",
   "execution_count": null,
   "metadata": {},
   "outputs": [],
   "source": [
    "ximenicAcid=model.reactions.MAR13063"
   ]
  },
  {
   "cell_type": "code",
   "execution_count": 103,
   "metadata": {},
   "outputs": [
    {
     "name": "stdout",
     "output_type": "stream",
     "text": [
      "0.0\n"
     ]
    }
   ],
   "source": [
    "with model:\n",
    "    for r in model.exchanges:\n",
    "        r.knock_out()\n",
    "    ximenicAcid.lower_bound=-1\n",
    "    ximenicAcid.upper_bound=-1\n",
    "    O2.lower_bound=-1000\n",
    "    H2O.upper_bound=1000\n",
    "    CO2.upper_bound=1000\n",
    "    \n",
    "    sol=model.slim_optimize()\n",
    "    cobra.io.write_sbml_model(model,nombre+\"-BOxidationUnSatFAn-9.xml\")\n",
    "    print(sol)"
   ]
  },
  {
   "cell_type": "markdown",
   "metadata": {},
   "source": [
    "Beta oxidation of unsaturated fatty acid (n-6) "
   ]
  },
  {
   "cell_type": "code",
   "execution_count": null,
   "metadata": {},
   "outputs": [],
   "source": [
    "linoleate=model.reactions.MAR09035"
   ]
  },
  {
   "cell_type": "code",
   "execution_count": 105,
   "metadata": {},
   "outputs": [
    {
     "name": "stdout",
     "output_type": "stream",
     "text": [
      "0.0 BOxidationInSatFA: MAM01371c + MAM02040c --> MAM01285c + MAM02039c + MAM02751c\n"
     ]
    }
   ],
   "source": [
    "with model:\n",
    "    interes = Reaction('BOxidationInSatFA')\n",
    "    interes.lower_bound = 0.  # This is the default\n",
    "    interes.upper_bound = 1000.  # This is the default\n",
    "    interes.add_metabolites({\n",
    "        model.metabolites.MAM01371c: -1.0,\n",
    "        model.metabolites.MAM02040c: -1.0,\n",
    "        model.metabolites.MAM01285c: 1.0,\n",
    "        model.metabolites.MAM02751c: 1.0,\n",
    "        model.metabolites.MAM02039c: 1.0\n",
    "    })\n",
    "    model.add_reactions([interes])\n",
    "    for r in model.exchanges:\n",
    "        r.knock_out()\n",
    "    linoleate.lower_bound=-1\n",
    "    linoleate.upper_bound=-1\n",
    "    O2.lower_bound=-1000\n",
    "    H2O.upper_bound=1000\n",
    "    CO2.upper_bound=1000\n",
    "    \n",
    "    sol=model.slim_optimize()\n",
    "    cobra.io.write_sbml_model(model,nombre+\"-BOxidationUnSatFAn-6.xml\")\n",
    "    print(sol, interes)"
   ]
  },
  {
   "cell_type": "markdown",
   "metadata": {},
   "source": [
    "Uptake and beta oxidation of all NEFAs"
   ]
  },
  {
   "cell_type": "code",
   "execution_count": 15,
   "metadata": {},
   "outputs": [],
   "source": [
    "NEFA_In = model.reactions.MAR09033\n",
    "NEFA_In2=model.reactions.MAR09056"
   ]
  },
  {
   "cell_type": "code",
   "execution_count": 17,
   "metadata": {},
   "outputs": [
    {
     "name": "stdout",
     "output_type": "stream",
     "text": [
      "0.0 BOxidationNEFAs: MAM01371c + MAM02040c --> MAM01285c + MAM02039c + MAM02751c\n"
     ]
    }
   ],
   "source": [
    "with model:\n",
    "    interes = Reaction('BOxidationNEFAs')\n",
    "    interes.lower_bound = 0.  # This is the default\n",
    "    interes.upper_bound = 1000.  # This is the default\n",
    "    interes.add_metabolites({\n",
    "        model.metabolites.MAM01371c: -1.0,\n",
    "        model.metabolites.MAM02040c: -1.0,\n",
    "        model.metabolites.MAM01285c: 1.0,\n",
    "        model.metabolites.MAM02751c: 1.0,\n",
    "        model.metabolites.MAM02039c: 1.0\n",
    "    })\n",
    "    model.add_reactions([interes])\n",
    "    for r in model.exchanges:\n",
    "        r.knock_out()\n",
    "    NEFA_In.lower_bound=-1\n",
    "    #NEFA_In.upper_bound=-1\n",
    "    NEFA_In2.lower_bound=-1\n",
    "    #NEFA_In2.lower_bound=-1  \n",
    "    O2.lower_bound=-1000\n",
    "    H2O.upper_bound=1000\n",
    "    CO2.upper_bound=1000\n",
    "    \n",
    "    sol=model.slim_optimize()\n",
    "    cobra.io.write_sbml_model(model,nombre+\"-BOxidationNEFAs.xml\")\n",
    "    print(sol, interes)"
   ]
  },
  {
   "cell_type": "markdown",
   "metadata": {},
   "source": [
    "# De novo synthesis of phospholipids"
   ]
  },
  {
   "cell_type": "markdown",
   "metadata": {},
   "source": [
    "Choline uptake"
   ]
  },
  {
   "cell_type": "code",
   "execution_count": 109,
   "metadata": {},
   "outputs": [],
   "source": [
    "model.metabolites.MAM01513e\n",
    "colina=model.reactions.MAR09083"
   ]
  },
  {
   "cell_type": "code",
   "execution_count": 110,
   "metadata": {},
   "outputs": [
    {
     "name": "stdout",
     "output_type": "stream",
     "text": [
      "0.0\n"
     ]
    }
   ],
   "source": [
    "with model:\n",
    "    expulsar = Reaction('CholineUptake')\n",
    "    expulsar.lower_bound = 0.  # This is the default\n",
    "    expulsar.upper_bound = 1000.  # This is the default\n",
    "    expulsar.add_metabolites({\n",
    "        model.metabolites.MAM01513c: -1.0,\n",
    "    })\n",
    "    model.add_reactions([expulsar])\n",
    "    for r in model.exchanges:\n",
    "        r.lower_bound=0\n",
    "        r.upper_bound=0\n",
    "    \n",
    "    colina.lower_bound=-1\n",
    "    colina.upper_bound=-1\n",
    "    \n",
    "    expulsar.lower_bound=1\n",
    "    expulsar.upper_bound=1\n",
    "    sol=model.slim_optimize()\n",
    "    cobra.io.write_sbml_model(model,nombre+\"-CholineUptake.xml\")\n",
    "    print(sol)"
   ]
  },
  {
   "cell_type": "markdown",
   "metadata": {},
   "source": [
    "Inositol uptake"
   ]
  },
  {
   "cell_type": "code",
   "execution_count": null,
   "metadata": {},
   "outputs": [],
   "source": [
    "inositol=model.reactions.MAR09361"
   ]
  },
  {
   "cell_type": "code",
   "execution_count": 112,
   "metadata": {},
   "outputs": [
    {
     "name": "stdout",
     "output_type": "stream",
     "text": [
      "0.0\n"
     ]
    }
   ],
   "source": [
    "with model:\n",
    "    expulsar = Reaction('InositolUptake')\n",
    "    expulsar.lower_bound = 0.  # This is the default\n",
    "    expulsar.upper_bound = 1000.  # This is the default\n",
    "    expulsar.add_metabolites({\n",
    "        model.metabolites.MAM02171c: -1.0,\n",
    "    })\n",
    "    model.add_reactions([expulsar])\n",
    "    \n",
    "    for r in model.exchanges:\n",
    "        r.lower_bound=0\n",
    "        r.upper_bound=0\n",
    "    \n",
    "    inositol.lower_bound=-1\n",
    "    inositol.upper_bound=-1\n",
    "    \n",
    "    expulsar.lower_bound=1\n",
    "    expulsar.upper_bound=1\n",
    "    sol=model.slim_optimize()\n",
    "    cobra.io.write_sbml_model(model,nombre+\"-InositolUptake.xml\")\n",
    "    print(sol)"
   ]
  },
  {
   "cell_type": "markdown",
   "metadata": {},
   "source": [
    "Phosphatidylcholine de novo synthesis"
   ]
  },
  {
   "cell_type": "code",
   "execution_count": 113,
   "metadata": {},
   "outputs": [],
   "source": [
    "PC_LD=model.reactions.MAR00655"
   ]
  },
  {
   "cell_type": "code",
   "execution_count": 33,
   "metadata": {},
   "outputs": [],
   "source": [
    "Pi=model.reactions.MAR09072"
   ]
  },
  {
   "cell_type": "code",
   "execution_count": 115,
   "metadata": {},
   "outputs": [
    {
     "name": "stdout",
     "output_type": "stream",
     "text": [
      "0.0 PCdenovo: MAM01371c + MAM02040c <=> MAM01285c + MAM02039c + MAM02751c PC: MAM02684c --> \n"
     ]
    }
   ],
   "source": [
    "with model:\n",
    "    interes = Reaction('PCdenovo')\n",
    "    interes.lower_bound = -1000.  # This is the default\n",
    "    interes.upper_bound = 1000.  # This is the default\n",
    "    interes.add_metabolites({\n",
    "        model.metabolites.MAM01371c: -1.0,\n",
    "        model.metabolites.MAM02040c: -1.0,\n",
    "        model.metabolites.MAM01285c: 1.0,\n",
    "        model.metabolites.MAM02751c: 1.0,\n",
    "        model.metabolites.MAM02039c: 1.0\n",
    "    })\n",
    "    PC = Reaction(\"PC\")\n",
    "    PC.lower_bound = 0 # This is the default\n",
    "    PC.upper_bound = 1000.  # This is the default\n",
    "    PC.add_metabolites({\n",
    "       model.metabolites.MAM02684c: -1.0\n",
    "    })\n",
    "    model.add_reactions([interes, PC])\n",
    "    \n",
    "    \n",
    "    for r in model.exchanges:\n",
    "        r.lower_bound=0\n",
    "        r.upper_bound=0\n",
    "        \n",
    "    NEFA_In2.lower_bound=-1000\n",
    "    NEFA_In.lower_bound=-1000\n",
    "    glucosa.lower_bound=-1000\n",
    "    O2.lower_bound=-1000\n",
    "    Pi.lower_bound=-1000\n",
    "    colina.lower_bound=-1000\n",
    "    \n",
    "    H2O.upper_bound=1000\n",
    "    CO2.upper_bound=1000\n",
    "    \n",
    "    PC.lower_bound=1\n",
    "\n",
    "    sol=model.slim_optimize()\n",
    "    cobra.io.write_sbml_model(model,nombre+\"-Phosphatidylcholine-de-novo-synthesis.xml\")\n",
    "    print(sol, interes, PC)"
   ]
  },
  {
   "cell_type": "markdown",
   "metadata": {},
   "source": [
    "Phosphatidylethanolamine de novo synthesis"
   ]
  },
  {
   "cell_type": "code",
   "execution_count": 117,
   "metadata": {},
   "outputs": [],
   "source": [
    "etanolamina=model.reactions.MAR09084\n",
    "PE_LD=model.metabolites.MAM02685c"
   ]
  },
  {
   "cell_type": "code",
   "execution_count": 118,
   "metadata": {},
   "outputs": [
    {
     "name": "stdout",
     "output_type": "stream",
     "text": [
      "0.0 PEdenovo: MAM01371c + MAM02040c <=> MAM01285c + MAM02039c + MAM02751c PE: MAM02685c --> \n"
     ]
    }
   ],
   "source": [
    "with model:\n",
    "    interes = Reaction('PEdenovo')\n",
    "    interes.lower_bound = -1000.  # This is the default\n",
    "    interes.upper_bound = 1000.  # This is the default\n",
    "    interes.add_metabolites({\n",
    "        model.metabolites.MAM01371c: -1.0,\n",
    "        model.metabolites.MAM02040c: -1.0,\n",
    "        model.metabolites.MAM01285c: 1.0,\n",
    "        model.metabolites.MAM02751c: 1.0,\n",
    "        model.metabolites.MAM02039c: 1.0\n",
    "    })\n",
    "    \n",
    "    PE = Reaction(\"PE\")\n",
    "    PE.lower_bound = -1000 # This is the default\n",
    "    PE.upper_bound = 1000.  # This is the default\n",
    "    PE.add_metabolites({\n",
    "        PE_LD:-1.0\n",
    "        \n",
    "    })\n",
    "    model.add_reactions([interes, PE])\n",
    "    for r in model.exchanges:\n",
    "        r.lower_bound=0\n",
    "        r.upper_bound=0\n",
    "        \n",
    "    NEFA_In.lower_bound=-1000 \n",
    "    NEFA_In2.lower_bound=-1000\n",
    "    glucosa.lower_bound=-1000\n",
    "    O2.lower_bound=-1000\n",
    "    Pi.lower_bound=-1000\n",
    "    etanolamina.lower_bound=-1000\n",
    "    \n",
    "    H2O.upper_bound=1000\n",
    "    CO2.upper_bound=1000\n",
    "    \n",
    "    PE.lower_bound=1\n",
    "    PE.upper_bound=1000\n",
    "    \n",
    "    sol=model.slim_optimize()\n",
    "    cobra.io.write_sbml_model(model,nombre+\"-Phosphatidylethanolamine-de-novo-synthesis.xml\")\n",
    "    print(sol, interes, PE)"
   ]
  },
  {
   "cell_type": "markdown",
   "metadata": {},
   "source": [
    "Phosphatidylserine de novo synthesis"
   ]
  },
  {
   "cell_type": "code",
   "execution_count": 119,
   "metadata": {},
   "outputs": [],
   "source": [
    "PS_LD=model.metabolites.MAM02808e"
   ]
  },
  {
   "cell_type": "code",
   "execution_count": 120,
   "metadata": {},
   "outputs": [
    {
     "name": "stdout",
     "output_type": "stream",
     "text": [
      "0.0 PSdenovo: MAM01371c + MAM02040c <=> MAM01285c + MAM02039c + MAM02751c PS: MAM02808e --> \n"
     ]
    }
   ],
   "source": [
    "with model:\n",
    "    interes = Reaction('PSdenovo')\n",
    "    interes.lower_bound = -1000.  # This is the default\n",
    "    interes.upper_bound = 1000.  # This is the default\n",
    "    interes.add_metabolites({\n",
    "        model.metabolites.MAM01371c: -1.0,\n",
    "        model.metabolites.MAM02040c: -1.0,\n",
    "        model.metabolites.MAM01285c: 1.0,\n",
    "        model.metabolites.MAM02751c: 1.0,\n",
    "        model.metabolites.MAM02039c: 1.0\n",
    "    })\n",
    "    \n",
    "    PS = Reaction(\"PS\")\n",
    "    PS.lower_bound = -1000 # This is the default\n",
    "    PS.upper_bound = 1000.  # This is the default\n",
    "    PS.add_metabolites({\n",
    "        PS_LD:-1.0\n",
    "        \n",
    "    })\n",
    "    model.add_reactions([interes, PS])\n",
    "    for r in model.exchanges:\n",
    "        r.lower_bound=0\n",
    "        r.upper_bound=0\n",
    "        \n",
    "    NEFA_In.lower_bound=-1000 \n",
    "    NEFA_In2.lower_bound=-1000\n",
    "    glucosa.lower_bound=-1000\n",
    "    O2.lower_bound=-1000\n",
    "    Pi.lower_bound=-1000\n",
    "    serina.lower_bound=-1000\n",
    "    \n",
    "    H2O.upper_bound=1000\n",
    "    CO2.upper_bound=1000\n",
    "    \n",
    "    PS.lower_bound=1\n",
    "    PS.upper_bound=1000\n",
    "    \n",
    "    sol=model.slim_optimize()\n",
    "    cobra.io.write_sbml_model(model,nombre+\"-Phosphatidylserine-de-novo-synthesis.xml\")\n",
    "    print(sol, interes, PS)"
   ]
  },
  {
   "cell_type": "markdown",
   "metadata": {},
   "source": [
    "Phosphatidylinositol de novo synthesis"
   ]
  },
  {
   "cell_type": "code",
   "execution_count": null,
   "metadata": {},
   "outputs": [],
   "source": [
    "PI_pool=model.metabolites.MAM02750e"
   ]
  },
  {
   "cell_type": "code",
   "execution_count": 36,
   "metadata": {},
   "outputs": [
    {
     "name": "stdout",
     "output_type": "stream",
     "text": [
      "0.0 PIdenovo: MAM01371c + MAM02040c <=> MAM01285c + MAM02039c + MAM02751c PI: MAM02750e --> \n"
     ]
    }
   ],
   "source": [
    "with model:\n",
    "    interes = Reaction('PIdenovo')\n",
    "    interes.lower_bound = -1000.  # This is the default\n",
    "    interes.upper_bound = 1000.  # This is the default\n",
    "    interes.add_metabolites({\n",
    "        model.metabolites.MAM01371c: -1.0,\n",
    "        model.metabolites.MAM02040c: -1.0,\n",
    "        model.metabolites.MAM01285c: 1.0,\n",
    "        model.metabolites.MAM02751c: 1.0,\n",
    "        model.metabolites.MAM02039c: 1.0\n",
    "    })\n",
    "\n",
    "    PI = Reaction(\"PI\")\n",
    "    PI.bounds=[1,1000]\n",
    "    PI.add_metabolites({\n",
    "        PI_pool:-1.0\n",
    "    })\n",
    "    model.add_reactions([interes, PI])\n",
    "    for r in model.exchanges:\n",
    "        r.bounds=[0,0]\n",
    "\n",
    "    NEFA_In.lower_bound=-1000\n",
    "    NEFA_In2.lower_bound=-1000\n",
    "    glucosa.lower_bound=-1000\n",
    "    O2.lower_bound=-1000\n",
    "    Pi.lower_bound=-1000\n",
    "    inositol.lower_bound=-1000\n",
    "\n",
    "    H2O.upper_bound=1000\n",
    "    CO2.upper_bound=1000\n",
    "\n",
    "\n",
    "    sol=model.slim_optimize()\n",
    "    cobra.io.write_sbml_model(model,nombre+\"-Phosphatidylinositol-de-novo-synthesis.xml\")\n",
    "    print(sol, interes, PI)"
   ]
  },
  {
   "cell_type": "code",
   "execution_count": 37,
   "metadata": {},
   "outputs": [],
   "source": [
    "modelo=cobra.io.read_sbml_model(\"ACH_000714-Phosphatidylinositol-de-novo-synthesis.xml\")\n",
    "dr=single_gene_deletion(modelo)\n",
    "nombre=\"MT52-SGD-mieloma\"\n",
    "with open(nombre, \"wb\") as f:\n",
    "    pickle.dump(dr, f)"
   ]
  },
  {
   "cell_type": "markdown",
   "metadata": {},
   "source": [
    "# Vitamins and co-factors"
   ]
  },
  {
   "cell_type": "markdown",
   "metadata": {},
   "source": [
    "Thiamin phosphorylation to TPP"
   ]
  },
  {
   "cell_type": "code",
   "execution_count": 123,
   "metadata": {},
   "outputs": [],
   "source": [
    "tiamina=model.reactions.MAR09159"
   ]
  },
  {
   "cell_type": "code",
   "execution_count": 124,
   "metadata": {},
   "outputs": [
    {
     "name": "stdout",
     "output_type": "stream",
     "text": [
      "<Solution 0.000 at 0x7fbb40265710> ThiaminToTPP: MAM01371c + MAM02040c <=> MAM01285c + MAM02039c + MAM02751c\n"
     ]
    }
   ],
   "source": [
    "with model:\n",
    "    interes = Reaction('ThiaminToTPP')\n",
    "    interes.lower_bound = -1000.  # This is the default\n",
    "    interes.upper_bound = 1000.  # This is the default\n",
    "    interes.add_metabolites({\n",
    "        model.metabolites.MAM01371c: -1.0,\n",
    "        model.metabolites.MAM02040c: -1.0,\n",
    "        model.metabolites.MAM01285c: 1.0,\n",
    "        model.metabolites.MAM02751c: 1.0,\n",
    "        model.metabolites.MAM02039c: 1.0\n",
    "    })\n",
    "    \n",
    "    expulsar = Reaction('ThiaminPP')\n",
    "    expulsar.lower_bound = 0.  # This is the default\n",
    "    expulsar.upper_bound = 1000.  # This is the default\n",
    "    expulsar.add_metabolites({\n",
    "        model.metabolites.MAM02984c: -1.0,\n",
    "    })\n",
    "    \n",
    "    hidrogeno=Reaction(\"Hidrogeno\")\n",
    "    hidrogeno.lower_bound=-1000\n",
    "    hidrogeno.upper_bound=1000\n",
    "    hidrogeno.add_metabolites({\n",
    "        model.metabolites.MAM02039c:1     \n",
    "    })\n",
    "    \n",
    "    model.add_reactions([interes, hidrogeno, expulsar])\n",
    "    for r in model.exchanges:\n",
    "        r.lower_bound=0\n",
    "        r.upper_bound=0\n",
    "        \n",
    "    tiamina.lower_bound=-1000  \n",
    "    O2.lower_bound=-1000\n",
    "    Pi.lower_bound=-1000\n",
    "    expulsar.lower_bound=1\n",
    "    H2O.lower_bound=-1000\n",
    "    H2O.upper_bound=1000\n",
    "    \n",
    "    model.reactions.MAR09079.lower_bound=-1000\n",
    "    model.reactions.MAR09079.upper_bound=1000\n",
    "    \n",
    "    hidrogeno.lower_bound=-1000\n",
    "    hidrogeno.upper_bound=1000\n",
    "    \n",
    "    sol=model.optimize()\n",
    "    cobra.io.write_sbml_model(model,nombre+\"-Thiamin-phosphorylation-to-TPP.xml\")\n",
    "    print(sol, interes)"
   ]
  },
  {
   "cell_type": "markdown",
   "metadata": {},
   "source": [
    "Coenzyme A synthesis from pantothenate"
   ]
  },
  {
   "cell_type": "code",
   "execution_count": 125,
   "metadata": {},
   "outputs": [],
   "source": [
    "pantotenato=model.reactions.MAR09145"
   ]
  },
  {
   "cell_type": "code",
   "execution_count": 126,
   "metadata": {},
   "outputs": [
    {
     "name": "stdout",
     "output_type": "stream",
     "text": [
      "0.0 ThiaminToTPP: MAM01371c + MAM02040c <=> MAM01285c + MAM02039c + MAM02751c\n"
     ]
    }
   ],
   "source": [
    "with model:\n",
    "    interes = Reaction('ThiaminToTPP')\n",
    "    interes.lower_bound = -1000.  # This is the default\n",
    "    interes.upper_bound = 1000.  # This is the default\n",
    "    interes.add_metabolites({\n",
    "        model.metabolites.MAM01371c: -1.0,\n",
    "        model.metabolites.MAM02040c: -1.0,\n",
    "        model.metabolites.MAM01285c: 1.0,\n",
    "        model.metabolites.MAM02751c: 1.0,\n",
    "        model.metabolites.MAM02039c: 1.0\n",
    "    })\n",
    "    \n",
    "    expulsar = Reaction('CoA')\n",
    "    expulsar.lower_bound = 0.  # This is the default\n",
    "    expulsar.upper_bound = 1000.  # This is the default\n",
    "    expulsar.add_metabolites({\n",
    "        model.metabolites.MAM01597c: -1.0,\n",
    "    })\n",
    "\n",
    "    model.add_reactions([interes, expulsar])\n",
    "    for r in model.exchanges:\n",
    "        r.lower_bound=0\n",
    "        r.upper_bound=0\n",
    "        \n",
    "    pantotenato.lower_bound=-1000  \n",
    "    O2.lower_bound=-1000\n",
    "    Pi.lower_bound=-1000\n",
    "    NH3.lower_bound=-1000\n",
    "    cisteina.lower_bound=-1000\n",
    "    H2O.lower_bound=-1000\n",
    "    glucosa.lower_bound=-1000\n",
    "    \n",
    "    expulsar.lower_bound=1\n",
    "    H2O.upper_bound=1000\n",
    "    CO2.upper_bound=1000\n",
    "    \n",
    "    \n",
    "    sol=model.slim_optimize()\n",
    "    cobra.io.write_sbml_model(model,nombre+\"-Coenzyme-A-synthesis-from-pantothenate.xml\")\n",
    "    print(sol, interes)"
   ]
  },
  {
   "cell_type": "markdown",
   "metadata": {},
   "source": [
    "FAD synthesis from riboflavin"
   ]
  },
  {
   "cell_type": "code",
   "execution_count": 127,
   "metadata": {},
   "outputs": [],
   "source": [
    "riboflavina=model.reactions.MAR09143"
   ]
  },
  {
   "cell_type": "code",
   "execution_count": 128,
   "metadata": {},
   "outputs": [
    {
     "name": "stdout",
     "output_type": "stream",
     "text": [
      "0.0 ThiaminToTPP: MAM01371c + MAM02040c <=> MAM01285c + MAM02039c + MAM02751c\n"
     ]
    }
   ],
   "source": [
    "with model:\n",
    "    expulsar = Reaction('FAD')\n",
    "    expulsar.lower_bound = 0.  # This is the default\n",
    "    expulsar.upper_bound = 1000.  # This is the default\n",
    "    expulsar.add_metabolites({\n",
    "        model.metabolites.MAM01802c: -1.0,\n",
    "    })\n",
    "\n",
    "    model.add_reactions([expulsar])\n",
    "    for r in model.exchanges:\n",
    "        r.lower_bound=0\n",
    "        r.upper_bound=0\n",
    "        \n",
    "    riboflavina.lower_bound=-1000  \n",
    "    O2.lower_bound=-1000\n",
    "    Pi.lower_bound=-1000\n",
    "    NH3.lower_bound=-1000\n",
    "    glucosa.lower_bound=-1000\n",
    "    expulsar.lower_bound=1\n",
    "    H2O.upper_bound=1000\n",
    "    CO2.upper_bound=1000\n",
    "    \n",
    "    \n",
    "    sol=model.slim_optimize()\n",
    "    cobra.io.write_sbml_model(model,nombre+\"-FAD-synthesis-from-riboflavin.xml\")\n",
    "    print(sol, interes)"
   ]
  },
  {
   "cell_type": "markdown",
   "metadata": {},
   "source": [
    "Heme biosynthesis"
   ]
  },
  {
   "cell_type": "code",
   "execution_count": 129,
   "metadata": {},
   "outputs": [],
   "source": [
    "fe2=model.reactions.MAR09076"
   ]
  },
  {
   "cell_type": "code",
   "execution_count": 130,
   "metadata": {},
   "outputs": [
    {
     "name": "stdout",
     "output_type": "stream",
     "text": [
      "0.0 HemeBiosynthesis: MAM02034c + MAM02040c <=> MAM01948c + MAM02039c + MAM02751c\n"
     ]
    }
   ],
   "source": [
    "with model:\n",
    "    interes = Reaction('HemeBiosynthesis')\n",
    "    interes.lower_bound = -1000.  # This is the default\n",
    "    interes.upper_bound = 1000.  # This is the default\n",
    "    interes.add_metabolites({\n",
    "        model.metabolites.MAM02034c: -1.0,\n",
    "        model.metabolites.MAM02040c: -1.0,\n",
    "        model.metabolites.MAM01948c: 1,\n",
    "        model.metabolites.MAM02039c: 1,\n",
    "        model.metabolites.MAM02751c: 1\n",
    "        \n",
    "    })\n",
    "    \n",
    "    expulsar = Reaction('Heme')\n",
    "    expulsar.lower_bound = 0.  # This is the default\n",
    "    expulsar.upper_bound = 1000.  # This is the default\n",
    "    expulsar.add_metabolites({\n",
    "        model.metabolites.MAM02049c: -1.0,\n",
    "    })\n",
    "\n",
    "    model.add_reactions([interes, expulsar])\n",
    "    for r in model.exchanges:\n",
    "        r.lower_bound=0\n",
    "        r.upper_bound=0\n",
    "        \n",
    "    fe2.lower_bound=-1000  \n",
    "    O2.lower_bound=-1000\n",
    "    NH3.lower_bound=-1000\n",
    "    glucosa.lower_bound=-1000\n",
    "    \n",
    "    expulsar.lower_bound=1\n",
    "    H2O.upper_bound=1000\n",
    "    CO2.upper_bound=1000\n",
    "    \n",
    "    \n",
    "    sol=model.slim_optimize()\n",
    "    cobra.io.write_sbml_model(model,nombre+\"-Heme-biosynthesis.xml\")\n",
    "    print(sol, interes)"
   ]
  },
  {
   "cell_type": "markdown",
   "metadata": {},
   "source": [
    "# Biomass Production under Ham's medium"
   ]
  },
  {
   "cell_type": "code",
   "execution_count": null,
   "metadata": {},
   "outputs": [],
   "source": [
    "mediaComps ={'glucose',\n",
    "             'arginine',\n",
    "             'histidine',\n",
    "             'lysine',\n",
    "             'methionine',\n",
    "             'phenylalanine',\n",
    "             'tryptophan',\n",
    "             'tyrosine',\n",
    "             'alanine',\n",
    "             'glycine',\n",
    "             'serine',\n",
    "             'threonine',\n",
    "             'aspartate',\n",
    "             'glutamate',\n",
    "             'asparagine',\n",
    "             'glutamine',\n",
    "             'isoleucine',\n",
    "             'leucine',\n",
    "             'proline',\n",
    "             'valine',\n",
    "             'cysteine',\n",
    "             'thiamin',\n",
    "             'hypoxanthine',\n",
    "             'folate',\n",
    "             'biotin',\n",
    "             'pantothenate',\n",
    "             'choline',\n",
    "             'inositol',\n",
    "             'nicotinamide',\n",
    "             'pyridoxine',\n",
    "             'riboflavin',\n",
    "             'thymidine',\n",
    "             'aquacob(III)alamin',\n",
    "             'lipoic acid',\n",
    "             'sulfate',\n",
    "             'linoleate',\n",
    "             'linolenate',\n",
    "             'O2',\n",
    "             'H2O',\n",
    "             'retinoate',\n",
    "             'Fe2+',\n",
    "             'Pi',\n",
    "             'alpha-tocopherol',\n",
    "             'gamma-tocopherol'}"
   ]
  },
  {
   "cell_type": "code",
   "execution_count": null,
   "metadata": {},
   "outputs": [],
   "source": [
    "\n"
   ]
  },
  {
   "cell_type": "code",
   "execution_count": null,
   "metadata": {},
   "outputs": [],
   "source": [
    "RComps=[]\n",
    "for i,r in enumerate(model.reactions):\n",
    "    if len(r.metabolites)==1:\n",
    "        m=list(r.metabolites)[0]\n",
    "        if m.id in mediaComps or m.name in mediaComps:\n",
    "            RComps.append(r)"
   ]
  },
  {
   "cell_type": "code",
   "execution_count": null,
   "metadata": {},
   "outputs": [],
   "source": [
    "#Use for Human1\n",
    "with model:\n",
    "    RComps=[]\n",
    "    for i,r in enumerate(model.reactions):\n",
    "        if len(r.metabolites)==1:\n",
    "            m=list(r.metabolites)[0]\n",
    "            if m.id in mediaComps or m.name in mediaComps:\n",
    "                RComps.append(r)\n",
    "\n",
    "    for r in set(model.exchanges).difference(RComps):\n",
    "        r.lower_bound=0\n",
    "    biomass=model.reactions.MAR13082\n",
    "    biomass.lower_bound=1\n",
    "    sol=model.slim_optimize()\n",
    "    cobra.io.write_sbml_model(model,nombre+\"-BiomassProduction.xml\")\n",
    "    print(sol, interes)"
   ]
  },
  {
   "cell_type": "code",
   "execution_count": null,
   "metadata": {},
   "outputs": [],
   "source": [
    "#Use for models from ftINIT\n",
    "with model:\n",
    "    nuevo_medio=set()\n",
    "    for i in mediaComps:\n",
    "        i=i+\" [Extracellular]\"\n",
    "        new_medium.add(i)\n",
    "\n",
    "    RComps=[]\n",
    "    for i,r in enumerate(model.reactions):\n",
    "        if len(r.metabolites)==1:\n",
    "            m=list(r.metabolites)[0]\n",
    "            if m.id in new_medium or m.name in new_medium:\n",
    "                RComps.append(r)\n",
    "\n",
    "    for r in set(model.exchanges).difference(RComps):\n",
    "        r.lower_bound=0\n",
    "    biomass=model.reactions.MAR13082\n",
    "    biomass.lower_bound=1\n",
    "    sol=model.slim_optimize()\n",
    "    cobra.io.write_sbml_model(model,nombre+\"-BiomassProduction.xml\")\n",
    "    print(sol, interes)"
   ]
  }
 ],
 "metadata": {
  "kernelspec": {
   "display_name": "Python3.6",
   "language": "python",
   "name": "python3.6"
  },
  "language_info": {
   "codemirror_mode": {
    "name": "ipython",
    "version": 3
   },
   "file_extension": ".py",
   "mimetype": "text/x-python",
   "name": "python",
   "nbconvert_exporter": "python",
   "pygments_lexer": "ipython3",
   "version": "3.6.8"
  }
 },
 "nbformat": 4,
 "nbformat_minor": 4
}
